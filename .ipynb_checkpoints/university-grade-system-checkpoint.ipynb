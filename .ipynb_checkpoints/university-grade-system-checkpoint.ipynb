{
 "cells": [
  {
   "cell_type": "code",
   "execution_count": null,
   "id": "4da7ae12-5e0b-4a8a-b984-e4b9a6ba880c",
   "metadata": {},
   "outputs": [],
   "source": []
  },
  {
   "cell_type": "code",
   "execution_count": 6,
   "id": "f2caffec-c347-437c-a89f-0887e654edb1",
   "metadata": {},
   "outputs": [
    {
     "name": "stdin",
     "output_type": "stream",
     "text": [
      "Enter your mark: 14\n"
     ]
    },
    {
     "name": "stdout",
     "output_type": "stream",
     "text": [
      "you are fail in the exam\n"
     ]
    }
   ],
   "source": [
    "marks=float(input('Enter your mark:'))\n",
    "if(marks<25):\n",
    "    print('you are fail in the exam')\n",
    "    \n",
    "\n",
    "elif (marks>=25) and (marks<=44):\n",
    "    print(' E grade , you are  pass in the exam')\n",
    "    \n",
    "\n",
    "elif (marks>=45) and (marks<=49):\n",
    "    print('D grade ,you are  pass in the exam')\n",
    "    \n",
    "\n",
    "elif (marks>=50) and (marks<=59):\n",
    "    print('C grade ,you are  pass in the exam')\n",
    "\n",
    "    \n",
    "elif (marks>=60) and (marks<=79):\n",
    "    print('B grade ,you are  pass in the exam')\n",
    "    \n",
    "    \n",
    "elif (marks>=80) and (marks<=89):\n",
    "    print('A grade ,you are  pass in the exam')\n",
    "\n",
    "\n",
    "else:\n",
    "    print('you are a loser')\n"
   ]
  },
  {
   "cell_type": "code",
   "execution_count": null,
   "id": "6b4820d6-d73c-493f-a138-a3ca54762f95",
   "metadata": {},
   "outputs": [],
   "source": [
    "marks=float(input('Enter your mark:'))\n",
    "if(marks<25):\n",
    "    print('you are fail in the exam')\n",
    "    \n",
    "\n",
    "elif (marks>=25) and (marks<=44):\n",
    "    print(' E grade , you are  pass in the exam')\n",
    "    \n",
    "\n",
    "elif (marks>=45) and (marks<=49):\n",
    "    print('D grade ,you are  pass in the exam')\n",
    "    \n",
    "\n",
    "elif (marks>=50) and (marks<=59):\n",
    "    print('C grade ,you are  pass in the exam')\n",
    "\n",
    "    \n",
    "elif (marks>=60) and (marks<=79):\n",
    "    print('B grade ,you are  pass in the exam')\n",
    "    \n",
    "    \n",
    "elif (marks>=80) and (marks<=89):\n",
    "    print('A grade ,you are  pass in the exam')\n",
    "\n",
    "\n",
    "else:\n",
    "    print('you are a loser')\n"
   ]
  },
  {
   "cell_type": "code",
   "execution_count": null,
   "id": "2a239f99-4848-4e1b-accd-edc8f1bafb7a",
   "metadata": {},
   "outputs": [],
   "source": []
  }
 ],
 "metadata": {
  "kernelspec": {
   "display_name": "Python 3 (ipykernel)",
   "language": "python",
   "name": "python3"
  },
  "language_info": {
   "codemirror_mode": {
    "name": "ipython",
    "version": 3
   },
   "file_extension": ".py",
   "mimetype": "text/x-python",
   "name": "python",
   "nbconvert_exporter": "python",
   "pygments_lexer": "ipython3",
   "version": "3.13.5"
  }
 },
 "nbformat": 4,
 "nbformat_minor": 5
}
