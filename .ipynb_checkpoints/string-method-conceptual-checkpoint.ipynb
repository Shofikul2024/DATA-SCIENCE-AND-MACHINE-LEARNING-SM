{
 "cells": [
  {
   "cell_type": "code",
   "execution_count": null,
   "id": "a75d9e38-5162-4f3d-b072-aaf3ea36f92a",
   "metadata": {},
   "outputs": [],
   "source": [
    "# String Case Transformations"
   ]
  },
  {
   "cell_type": "code",
   "execution_count": 1,
   "id": "67e29a97-bc1e-42f9-a14e-ed1d97c92548",
   "metadata": {},
   "outputs": [
    {
     "name": "stdout",
     "output_type": "stream",
     "text": [
      "name ti uppercase  banaw: SHOFIKUL ISLAM\n"
     ]
    }
   ],
   "source": [
    "name='shofikul islam'\n",
    "print('name ti uppercase  banaw:',name.upper())"
   ]
  },
  {
   "cell_type": "code",
   "execution_count": null,
   "id": "21b1ff19-0d60-4780-968c-6a659538c8ca",
   "metadata": {},
   "outputs": [],
   "source": []
  },
  {
   "cell_type": "code",
   "execution_count": null,
   "id": "35ff7c02-c8c5-470c-bf7e-9055352542f4",
   "metadata": {},
   "outputs": [],
   "source": []
  },
  {
   "cell_type": "code",
   "execution_count": null,
   "id": "1705728a-c788-434c-b0d5-87f4be5ceef6",
   "metadata": {},
   "outputs": [],
   "source": []
  },
  {
   "cell_type": "code",
   "execution_count": null,
   "id": "e741fd70-8783-4976-94e2-2206fb698ea0",
   "metadata": {},
   "outputs": [],
   "source": []
  },
  {
   "cell_type": "code",
   "execution_count": null,
   "id": "30460e06-dc83-43c8-abd6-8ea08dcf6aff",
   "metadata": {},
   "outputs": [],
   "source": []
  },
  {
   "cell_type": "code",
   "execution_count": null,
   "id": "6254a0c6-4ffe-4da3-839d-3573d2f012db",
   "metadata": {},
   "outputs": [],
   "source": []
  },
  {
   "cell_type": "code",
   "execution_count": null,
   "id": "c7917185-200a-4280-8872-f27318a8b85d",
   "metadata": {},
   "outputs": [],
   "source": []
  },
  {
   "cell_type": "code",
   "execution_count": null,
   "id": "7a558297-e694-4da8-9e10-feb6078d2260",
   "metadata": {},
   "outputs": [],
   "source": []
  },
  {
   "cell_type": "code",
   "execution_count": null,
   "id": "803976df-168c-499b-80ac-a1bc4cbde004",
   "metadata": {},
   "outputs": [],
   "source": []
  },
  {
   "cell_type": "code",
   "execution_count": null,
   "id": "41cacab2-c29e-4884-bee6-b0343e2bfa63",
   "metadata": {},
   "outputs": [],
   "source": []
  },
  {
   "cell_type": "code",
   "execution_count": null,
   "id": "55fa86d9-5ed2-4fd0-a1b2-8beadec7ab8e",
   "metadata": {},
   "outputs": [],
   "source": []
  }
 ],
 "metadata": {
  "kernelspec": {
   "display_name": "Python 3 (ipykernel)",
   "language": "python",
   "name": "python3"
  },
  "language_info": {
   "codemirror_mode": {
    "name": "ipython",
    "version": 3
   },
   "file_extension": ".py",
   "mimetype": "text/x-python",
   "name": "python",
   "nbconvert_exporter": "python",
   "pygments_lexer": "ipython3",
   "version": "3.13.5"
  }
 },
 "nbformat": 4,
 "nbformat_minor": 5
}
