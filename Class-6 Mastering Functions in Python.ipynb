{
 "cells": [
  {
   "cell_type": "code",
   "execution_count": 2,
   "id": "78c66c0e-164e-458f-b823-1eb01d77ce63",
   "metadata": {},
   "outputs": [
    {
     "name": "stdout",
     "output_type": "stream",
     "text": [
      "30\n"
     ]
    }
   ],
   "source": [
    "def myFun():\n",
    "    x=10\n",
    "    y=20\n",
    "    print(x+y)\n",
    "myFun()    \n",
    "    "
   ]
  },
  {
   "cell_type": "code",
   "execution_count": null,
   "id": "096cd4b7-94f3-4790-a8ed-7a7eae6b1065",
   "metadata": {},
   "outputs": [],
   "source": [
    "\n",
    "\n",
    "\n"
   ]
  },
  {
   "cell_type": "code",
   "execution_count": 4,
   "id": "446b90fd-1a24-4c80-99ce-1dd00cc38dcd",
   "metadata": {},
   "outputs": [
    {
     "name": "stdout",
     "output_type": "stream",
     "text": [
      "40\n",
      "70\n",
      "90\n"
     ]
    }
   ],
   "source": [
    "def myFun(x,y):\n",
    "    print(x+y)\n",
    "    \n",
    "myFun(10 ,30)\n",
    "myFun(40 ,30)\n",
    "myFun(50 ,40)"
   ]
  },
  {
   "cell_type": "code",
   "execution_count": null,
   "id": "16cc0e24-8831-4ee8-b7cd-894bb8ac7f0f",
   "metadata": {},
   "outputs": [],
   "source": []
  }
 ],
 "metadata": {
  "kernelspec": {
   "display_name": "Python 3 (ipykernel)",
   "language": "python",
   "name": "python3"
  },
  "language_info": {
   "codemirror_mode": {
    "name": "ipython",
    "version": 3
   },
   "file_extension": ".py",
   "mimetype": "text/x-python",
   "name": "python",
   "nbconvert_exporter": "python",
   "pygments_lexer": "ipython3",
   "version": "3.13.5"
  }
 },
 "nbformat": 4,
 "nbformat_minor": 5
}
