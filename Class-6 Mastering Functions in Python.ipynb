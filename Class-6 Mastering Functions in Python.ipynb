{
 "cells": [
  {
   "cell_type": "code",
   "execution_count": 2,
   "id": "78c66c0e-164e-458f-b823-1eb01d77ce63",
   "metadata": {},
   "outputs": [
    {
     "name": "stdout",
     "output_type": "stream",
     "text": [
      "30\n"
     ]
    }
   ],
   "source": [
    "# Functional Programming\n",
    "\n",
    "def myFun():\n",
    "    x=10\n",
    "    y=20\n",
    "    print(x+y)\n",
    "myFun()    \n",
    "    "
   ]
  },
  {
   "cell_type": "code",
   "execution_count": null,
   "id": "096cd4b7-94f3-4790-a8ed-7a7eae6b1065",
   "metadata": {},
   "outputs": [],
   "source": [
    "\n",
    "\n",
    "\n"
   ]
  },
  {
   "cell_type": "code",
   "execution_count": 4,
   "id": "446b90fd-1a24-4c80-99ce-1dd00cc38dcd",
   "metadata": {},
   "outputs": [
    {
     "name": "stdout",
     "output_type": "stream",
     "text": [
      "40\n",
      "70\n",
      "90\n"
     ]
    }
   ],
   "source": [
    "# General Parameter\n",
    "\n",
    "def myFun(x,y):\n",
    "    print(x+y)\n",
    "    \n",
    "myFun(10 ,30)\n",
    "myFun(40 ,30)\n",
    "myFun(50 ,40)"
   ]
  },
  {
   "cell_type": "code",
   "execution_count": null,
   "id": "16cc0e24-8831-4ee8-b7cd-894bb8ac7f0f",
   "metadata": {},
   "outputs": [],
   "source": [
    "\n",
    "\n"
   ]
  },
  {
   "cell_type": "code",
   "execution_count": 5,
   "id": "c40ac6b2-6856-4eb5-966f-75ad26f4c89b",
   "metadata": {},
   "outputs": [
    {
     "name": "stdout",
     "output_type": "stream",
     "text": [
      "90\n",
      "140\n"
     ]
    }
   ],
   "source": [
    "# Required and Optional Parameter\n",
    "\n",
    "def myFun(x, y=400, z=100):\n",
    "    print(x+y+z)\n",
    "\n",
    "myFun(10,30,50)\n",
    "myFun(10,30)\n",
    "\n",
    "\n"
   ]
  },
  {
   "cell_type": "code",
   "execution_count": null,
   "id": "99e2184a-f5df-42af-b502-f747ab985a68",
   "metadata": {},
   "outputs": [],
   "source": []
  },
  {
   "cell_type": "code",
   "execution_count": 6,
   "id": "b2cf08c0-3c00-4dcd-a0ff-cc860cb00df5",
   "metadata": {},
   "outputs": [
    {
     "name": "stdout",
     "output_type": "stream",
     "text": [
      "()\n",
      "(10,)\n",
      "(10, 20)\n",
      "(10, 20, 30)\n",
      "(10, 20, 30, 40)\n",
      "('a', 'b', 'c')\n"
     ]
    }
   ],
   "source": [
    "\n",
    "def myFun(*x):\n",
    "    print(x)\n",
    "\n",
    "myFun()\n",
    "myFun(10)\n",
    "myFun(10,20)\n",
    "myFun(10,20,30)\n",
    "myFun(10,20,30,40)\n",
    "myFun( 'a',  'b',  'c')\n"
   ]
  },
  {
   "cell_type": "code",
   "execution_count": null,
   "id": "95f38a26-36c6-4a03-985f-ca8d7bb4083d",
   "metadata": {},
   "outputs": [],
   "source": []
  },
  {
   "cell_type": "code",
   "execution_count": null,
   "id": "8c5e32d3-10e8-4e71-b29a-7bf52e017755",
   "metadata": {},
   "outputs": [],
   "source": []
  },
  {
   "cell_type": "code",
   "execution_count": null,
   "id": "04d8f3ea-50f0-4d33-9bb2-f4f2c1a37ebb",
   "metadata": {},
   "outputs": [],
   "source": []
  },
  {
   "cell_type": "code",
   "execution_count": null,
   "id": "fdb96c1a-bd14-4f5c-994d-c73c05020830",
   "metadata": {},
   "outputs": [],
   "source": []
  },
  {
   "cell_type": "code",
   "execution_count": null,
   "id": "28926a39-2d01-4cc7-a262-2959dacd2628",
   "metadata": {},
   "outputs": [],
   "source": []
  },
  {
   "cell_type": "code",
   "execution_count": null,
   "id": "62960a46-c9be-4bb8-b89c-4cc61fb1ebb5",
   "metadata": {},
   "outputs": [],
   "source": []
  },
  {
   "cell_type": "code",
   "execution_count": null,
   "id": "a5d62c27-74f1-48fa-bd0d-b873bf60e67d",
   "metadata": {},
   "outputs": [],
   "source": []
  },
  {
   "cell_type": "code",
   "execution_count": null,
   "id": "0e058095-39ab-45d4-9b3a-11cb5e8639ab",
   "metadata": {},
   "outputs": [],
   "source": []
  },
  {
   "cell_type": "code",
   "execution_count": null,
   "id": "eb6dc144-7008-48a0-a298-f2efb83aca1e",
   "metadata": {},
   "outputs": [],
   "source": []
  },
  {
   "cell_type": "code",
   "execution_count": null,
   "id": "10316741-1f30-4275-be21-ebc9f98e5dcb",
   "metadata": {},
   "outputs": [],
   "source": []
  }
 ],
 "metadata": {
  "kernelspec": {
   "display_name": "Python 3 (ipykernel)",
   "language": "python",
   "name": "python3"
  },
  "language_info": {
   "codemirror_mode": {
    "name": "ipython",
    "version": 3
   },
   "file_extension": ".py",
   "mimetype": "text/x-python",
   "name": "python",
   "nbconvert_exporter": "python",
   "pygments_lexer": "ipython3",
   "version": "3.13.5"
  }
 },
 "nbformat": 4,
 "nbformat_minor": 5
}
