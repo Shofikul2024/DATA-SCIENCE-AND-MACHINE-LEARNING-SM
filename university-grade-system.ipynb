{
 "cells": [
  {
   "cell_type": "markdown",
   "id": "7b7f49c3-a6e9-4d54-95ab-53a0374cbc16",
   "metadata": {},
   "source": [
    "marks=float(input('Enter your mark:'))\n",
    "if(marks<25:\n",
    "    print('you are fail in the exam')\n",
    "    \n",
    "\n",
    "elif (marks>=25) and (marks<=44):\n",
    "    print(' E grade , you are  pass in the exam')\n",
    "    \n",
    "\n",
    "elif (marks>=45) and (marks<=49):\n",
    "    print('D grade ,you are  pass in the exam')\n",
    "    \n",
    "\n",
    "elif (marks>=50) and (marks<=59):\n",
    "    print('C grade ,you are  pass in the exam')\n",
    "\n",
    "    \n",
    "elif (marks>=60) and (marks<=79):\n",
    "    print('B grade ,you are  pass in the exam')\n",
    "    \n",
    "    \n",
    "elif (marks>=80) and (marks<=89):\n",
    "    print('A grade ,you are  pass in the exam')\n",
    "\n",
    "\n",
    "    else:\n",
    "    print('you are a loser')\n"
   ]
  },
  {
   "cell_type": "code",
   "execution_count": null,
   "id": "4da7ae12-5e0b-4a8a-b984-e4b9a6ba880c",
   "metadata": {},
   "outputs": [],
   "source": []
  },
  {
   "cell_type": "code",
   "execution_count": 3,
   "id": "f2caffec-c347-437c-a89f-0887e654edb1",
   "metadata": {},
   "outputs": [
    {
     "ename": "SyntaxError",
     "evalue": "invalid syntax (865935679.py, line 26)",
     "output_type": "error",
     "traceback": [
      "  \u001b[36mCell\u001b[39m\u001b[36m \u001b[39m\u001b[32mIn[3]\u001b[39m\u001b[32m, line 26\u001b[39m\n\u001b[31m    \u001b[39m\u001b[31melse:\u001b[39m\n    ^\n\u001b[31mSyntaxError\u001b[39m\u001b[31m:\u001b[39m invalid syntax\n"
     ]
    }
   ],
   "source": [
    "marks=float(input('Enter your mark:'))\n",
    "if(marks<25):\n",
    "    print('you are fail in the exam')\n",
    "    \n",
    "\n",
    "elif (marks>=25) and (marks<=44):\n",
    "    print(' E grade , you are  pass in the exam')\n",
    "    \n",
    "\n",
    "elif (marks>=45) and (marks<=49):\n",
    "    print('D grade ,you are  pass in the exam')\n",
    "    \n",
    "\n",
    "elif (marks>=50) and (marks<=59):\n",
    "    print('C grade ,you are  pass in the exam')\n",
    "\n",
    "    \n",
    "elif (marks>=60) and (marks<=79):\n",
    "    print('B grade ,you are  pass in the exam')\n",
    "    \n",
    "    \n",
    "elif (marks>=80) and (marks<=89):\n",
    "    print('A grade ,you are  pass in the exam')\n",
    "\n",
    "\n",
    "    else:\n",
    "    print('you are a loser')\n"
   ]
  },
  {
   "cell_type": "code",
   "execution_count": null,
   "id": "6b4820d6-d73c-493f-a138-a3ca54762f95",
   "metadata": {},
   "outputs": [],
   "source": []
  }
 ],
 "metadata": {
  "kernelspec": {
   "display_name": "Python 3 (ipykernel)",
   "language": "python",
   "name": "python3"
  },
  "language_info": {
   "codemirror_mode": {
    "name": "ipython",
    "version": 3
   },
   "file_extension": ".py",
   "mimetype": "text/x-python",
   "name": "python",
   "nbconvert_exporter": "python",
   "pygments_lexer": "ipython3",
   "version": "3.13.5"
  }
 },
 "nbformat": 4,
 "nbformat_minor": 5
}
