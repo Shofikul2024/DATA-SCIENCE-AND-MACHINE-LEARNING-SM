{
 "cells": [
  {
   "cell_type": "code",
   "execution_count": 5,
   "id": "a755d7bc-c5c1-49cf-b918-7e8a58230913",
   "metadata": {},
   "outputs": [
    {
     "name": "stdin",
     "output_type": "stream",
     "text": [
      "Enter the length: 10\n",
      "Enter the breadth: 20\n"
     ]
    },
    {
     "name": "stdout",
     "output_type": "stream",
     "text": [
      "it is not square\n"
     ]
    }
   ],
   "source": [
    "# formula  jokhon lengh and breadth  soman hobe tothon square hobe \n",
    "\n",
    "length=float(input('Enter the length:'))\n",
    "breadth=float(input('Enter the breadth:'))\n",
    "\n",
    "if length==breadth:                   #only akhane   deklam je if er por first braket na  dilei same ans pawya jay\n",
    "    print('yes , it is  Square')\n",
    "\n",
    "else:\n",
    "    print('it is not square')\n",
    "\n",
    "\n",
    "\n",
    "\n",
    "\n"
   ]
  },
  {
   "cell_type": "code",
   "execution_count": 6,
   "id": "6f32d5e7-4deb-4d68-a7d3-c3add5b89979",
   "metadata": {},
   "outputs": [
    {
     "name": "stdin",
     "output_type": "stream",
     "text": [
      "Enter the length: 20\n",
      "Enter the breadth: 20\n"
     ]
    },
    {
     "name": "stdout",
     "output_type": "stream",
     "text": [
      "yes , it is  Square\n"
     ]
    }
   ],
   "source": [
    "# formula  jokhon lengh and breadth  soman hobe tothon square hobe \n",
    "\n",
    "length=float(input('Enter the length:'))\n",
    "breadth=float(input('Enter the breadth:'))\n",
    "\n",
    "if (length==breadth):                   #only akhane   deklam je if er por first braket dilei same ans pawya jay\n",
    "    print('yes , it is  Square')\n",
    "\n",
    "else:\n",
    "    print('it is not square')\n",
    "\n",
    "\n",
    "\n",
    "\n",
    "\n"
   ]
  },
  {
   "cell_type": "code",
   "execution_count": 15,
   "id": "fca7ee7f-6999-4d72-8c3b-44ae965b4c5c",
   "metadata": {},
   "outputs": [
    {
     "name": "stdin",
     "output_type": "stream",
     "text": [
      "Enter the first number: 5\n",
      "Enter the second number: 6\n",
      "Enter the third number: 7\n"
     ]
    },
    {
     "name": "stdout",
     "output_type": "stream",
     "text": [
      "the largest number is 7\n"
     ]
    }
   ],
   "source": [
    "num1=int(input('Enter the first number:'))\n",
    "num2=int(input('Enter the second number:'))\n",
    "num3=int(input('Enter the third number:'))\n",
    " \n",
    "if (num1>num2) and (num1>num3):\n",
    "     largest=num1\n",
    "elif(num2>num1) and (num2>num3):\n",
    "    largest=num2\n",
    "else:\n",
    "    largest=num3\n",
    "     \n",
    "\n",
    "print('The largest number is', largest)\n",
    " "
   ]
  },
  {
   "cell_type": "code",
   "execution_count": 16,
   "id": "5fcda6a9-b3a7-4a73-a49d-72483f9820aa",
   "metadata": {},
   "outputs": [
    {
     "name": "stdin",
     "output_type": "stream",
     "text": [
      "enter first num: 7\n",
      "enter 2nd num: 8\n",
      "enter 3rd num: 9\n"
     ]
    },
    {
     "name": "stdout",
     "output_type": "stream",
     "text": [
      "Here largest number is: 9\n"
     ]
    }
   ],
   "source": [
    "num1=int(input('enter first num:'))\n",
    "num2=int(input('enter 2nd num:')) \n",
    "num3=int(input('enter 3rd num:'))\n",
    "\n",
    "if(num1>num2) and (num1>num3):\n",
    "    largest=num1\n",
    "\n",
    "elif(num2>num1) and (num2>num3): \n",
    "    largest=num2\n",
    "else: largest=num3\n",
    "\n",
    "print('Here largest number is:',largest)"
   ]
  },
  {
   "cell_type": "code",
   "execution_count": 17,
   "id": "8b28689c-5622-4e7b-b002-e3c884ae4b99",
   "metadata": {},
   "outputs": [
    {
     "name": "stdin",
     "output_type": "stream",
     "text": [
      "enter first num: 10\n",
      "enter 2nd num: 11\n",
      "enter 3rd num: 1\n"
     ]
    },
    {
     "name": "stdout",
     "output_type": "stream",
     "text": [
      "Here largest number is: 11\n"
     ]
    }
   ],
   "source": [
    "num1=int(input('enter first num:'))\n",
    "num2=int(input('enter 2nd num:')) \n",
    "num3=int(input('enter 3rd num:'))\n",
    "\n",
    "if(num1>num2) and (num1>num3):\n",
    "    largest=num1\n",
    "\n",
    "elif(num2>num1) and (num2>num3): \n",
    "    largest=num2\n",
    "else: largest=num3\n",
    "\n",
    "print('Here largest number is:',largest)"
   ]
  },
  {
   "cell_type": "code",
   "execution_count": null,
   "id": "388a2922-4b4a-4891-abfa-f0984364ec9c",
   "metadata": {},
   "outputs": [],
   "source": []
  }
 ],
 "metadata": {
  "kernelspec": {
   "display_name": "Python 3 (ipykernel)",
   "language": "python",
   "name": "python3"
  },
  "language_info": {
   "codemirror_mode": {
    "name": "ipython",
    "version": 3
   },
   "file_extension": ".py",
   "mimetype": "text/x-python",
   "name": "python",
   "nbconvert_exporter": "python",
   "pygments_lexer": "ipython3",
   "version": "3.13.5"
  }
 },
 "nbformat": 4,
 "nbformat_minor": 5
}
