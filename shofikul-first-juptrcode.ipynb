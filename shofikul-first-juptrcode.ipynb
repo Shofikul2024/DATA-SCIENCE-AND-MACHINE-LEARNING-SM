{
 "cells": [
  {
   "cell_type": "code",
   "execution_count": 5,
   "id": "48fd3881-a602-4bef-88a0-a4aa5acbc863",
   "metadata": {},
   "outputs": [
    {
     "name": "stdout",
     "output_type": "stream",
     "text": [
      "hello\n"
     ]
    }
   ],
   "source": [
    "print('hello')"
   ]
  },
  {
   "cell_type": "code",
   "execution_count": 6,
   "id": "1c102924-4e9f-4252-b722-33ae5111ded5",
   "metadata": {},
   "outputs": [
    {
     "data": {
      "text/plain": [
       "22"
      ]
     },
     "execution_count": 6,
     "metadata": {},
     "output_type": "execute_result"
    }
   ],
   "source": [
    "20+2\n"
   ]
  },
  {
   "cell_type": "code",
   "execution_count": 3,
   "id": "feed7fb2-1d8d-4cf2-a2f8-7305ea8efc0c",
   "metadata": {},
   "outputs": [
    {
     "name": "stdout",
     "output_type": "stream",
     "text": [
      "shofikul islam \n"
     ]
    }
   ],
   "source": [
    "x='shofikul '\n",
    "y='islam '\n",
    "print(x+y)"
   ]
  },
  {
   "cell_type": "code",
   "execution_count": null,
   "id": "0ea22254-030b-4761-97c5-67e3d4063b13",
   "metadata": {},
   "outputs": [],
   "source": [
    "  amer jupyter notebook a   kaj  korte  chile .\n",
    "ai command   dite hoy . firstly  window tarpor anaconda promt , tarpor\n",
    "\n",
    "D: && cd \"DATA SCIENCE AND MACHINE LEARNING SM\" && python -m notebook\n",
    "\n",
    " diye open korte hoy specific kono folder ar jonno \n",
    "\n"
   ]
  },
  {
   "cell_type": "code",
   "execution_count": 4,
   "id": "3e018cd5-7d7a-4a75-8bb0-02ad241b2332",
   "metadata": {},
   "outputs": [
    {
     "name": "stdout",
     "output_type": "stream",
     "text": [
      "amer jupyter notebook a   kaj  korte  chile .\n",
      "ai command   dite hoy . firstly  window tarpor anaconda promt , tarpor\n",
      "\n",
      "D: && cd \"DATA SCIENCE AND MACHINE LEARNING SM\" && python -m notebook\n",
      "\n",
      " diye open korte hoy specific kono folder ar jonno \n"
     ]
    }
   ],
   "source": [
    "x= '''amer jupyter notebook a   kaj  korte  chile .\n",
    "ai command   dite hoy . firstly  window tarpor anaconda promt , tarpor\n",
    "\n",
    "D: && cd \"DATA SCIENCE AND MACHINE LEARNING SM\" && python -m notebook\n",
    "\n",
    " diye open korte hoy specific kono folder ar jonno '''\n",
    "print(x)\n",
    "\n",
    "\n"
   ]
  },
  {
   "cell_type": "code",
   "execution_count": null,
   "id": "4d7e1584-0a7c-4305-9b5b-531a62a9062d",
   "metadata": {},
   "outputs": [],
   "source": [
    "x='hello '\n",
    "y='world '\n",
    "print(x+y)"
   ]
  }
 ],
 "metadata": {
  "kernelspec": {
   "display_name": "Python 3 (ipykernel)",
   "language": "python",
   "name": "python3"
  },
  "language_info": {
   "codemirror_mode": {
    "name": "ipython",
    "version": 3
   },
   "file_extension": ".py",
   "mimetype": "text/x-python",
   "name": "python",
   "nbconvert_exporter": "python",
   "pygments_lexer": "ipython3",
   "version": "3.13.5"
  }
 },
 "nbformat": 4,
 "nbformat_minor": 5
}
