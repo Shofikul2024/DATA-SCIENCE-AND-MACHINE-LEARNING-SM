{
 "cells": [
  {
   "cell_type": "code",
   "execution_count": 5,
   "id": "48fd3881-a602-4bef-88a0-a4aa5acbc863",
   "metadata": {},
   "outputs": [
    {
     "name": "stdout",
     "output_type": "stream",
     "text": [
      "hello\n"
     ]
    }
   ],
   "source": [
    "print('hello')"
   ]
  },
  {
   "cell_type": "code",
   "execution_count": 3,
   "id": "feed7fb2-1d8d-4cf2-a2f8-7305ea8efc0c",
   "metadata": {},
   "outputs": [
    {
     "name": "stdout",
     "output_type": "stream",
     "text": [
      "shofikul islam \n"
     ]
    }
   ],
   "source": [
    "x='shofikul '\n",
    "y='islam '\n",
    "print(x+y)"
   ]
  },
  {
   "cell_type": "code",
   "execution_count": null,
   "id": "0ea22254-030b-4761-97c5-67e3d4063b13",
   "metadata": {},
   "outputs": [],
   "source": [
    "  amer jupyter notebook a   kaj  korte  chile .\n",
    "ai command   dite hoy . firstly  window tarpor anaconda promt , tarpor\n",
    "\n",
    "D: && cd \"DATA SCIENCE AND MACHINE LEARNING SM\" && python -m notebook\n",
    "\n",
    " diye open korte hoy specific kono folder ar jonno \n",
    "\n"
   ]
  },
  {
   "cell_type": "code",
   "execution_count": 4,
   "id": "3e018cd5-7d7a-4a75-8bb0-02ad241b2332",
   "metadata": {},
   "outputs": [
    {
     "name": "stdout",
     "output_type": "stream",
     "text": [
      "amer jupyter notebook a   kaj  korte  chile .\n",
      "ai command   dite hoy . firstly  window tarpor anaconda promt , tarpor\n",
      "\n",
      "D: && cd \"DATA SCIENCE AND MACHINE LEARNING SM\" && python -m notebook\n",
      "\n",
      " diye open korte hoy specific kono folder ar jonno \n"
     ]
    }
   ],
   "source": [
    "x= '''amer jupyter notebook a   kaj  korte  chile .\n",
    "ai command   dite hoy . firstly  window tarpor anaconda promt , tarpor\n",
    "\n",
    "D: && cd \"DATA SCIENCE AND MACHINE LEARNING SM\" && python -m notebook\n",
    "\n",
    " diye open korte hoy specific kono folder ar jonno '''\n",
    "print(x)\n",
    "\n",
    "\n"
   ]
  },
  {
   "cell_type": "raw",
   "id": "c525ae69-8295-40cf-a355-46450539e8f4",
   "metadata": {},
   "source": [
    "x= '''amer jupyter notebook a   kaj  korte  chile .\n",
    "ai command   dite hoy . firstly  window tarpor anaconda promt , tarpor\n",
    "\n",
    "D: && cd \"DATA SCIENCE AND MACHINE LEARNING SM\" && python -m notebook\n",
    "\n",
    " diye open korte hoy specific kono folder ar jonno '''\n",
    "print(x)\n",
    "\n",
    "\n"
   ]
  },
  {
   "cell_type": "code",
   "execution_count": 3,
   "id": "4d7e1584-0a7c-4305-9b5b-531a62a9062d",
   "metadata": {},
   "outputs": [
    {
     "name": "stdout",
     "output_type": "stream",
     "text": [
      "hello world \n"
     ]
    }
   ],
   "source": [
    "x='hello '\n",
    "y='world '\n",
    "print(x+y)"
   ]
  },
  {
   "cell_type": "code",
   "execution_count": 8,
   "id": "8074fc9f-316b-4399-aa28-beba7f9e0605",
   "metadata": {},
   "outputs": [
    {
     "name": "stdout",
     "output_type": "stream",
     "text": [
      "hello world   60 days of python *"
     ]
    }
   ],
   "source": [
    "print('hello world ' , ' 60 days of python ', sep=' ' , end='*')        #jupyter a   shortcut a  run korar keyholo shift+Enter"
   ]
  },
  {
   "cell_type": "code",
   "execution_count": 12,
   "id": "7e70536e-e02b-45fd-b1c9-0c7e96e4c8b6",
   "metadata": {},
   "outputs": [],
   "source": [
    "m=100\n"
   ]
  },
  {
   "cell_type": "code",
   "execution_count": 13,
   "id": "310d98d3-e458-46ba-a92c-7b31d0bed51f",
   "metadata": {},
   "outputs": [
    {
     "data": {
      "text/plain": [
       "100"
      ]
     },
     "execution_count": 13,
     "metadata": {},
     "output_type": "execute_result"
    }
   ],
   "source": [
    "m"
   ]
  },
  {
   "cell_type": "code",
   "execution_count": 15,
   "id": "23246249-f9d2-42e4-b22c-bbb22b7b2a09",
   "metadata": {},
   "outputs": [
    {
     "data": {
      "text/plain": [
       "300"
      ]
     },
     "execution_count": 15,
     "metadata": {},
     "output_type": "execute_result"
    }
   ],
   "source": [
    "100+200"
   ]
  },
  {
   "cell_type": "code",
   "execution_count": 16,
   "id": "50bffa5e-fa11-4f3b-8a29-feb9834cf391",
   "metadata": {},
   "outputs": [
    {
     "data": {
      "text/plain": [
       "20"
      ]
     },
     "execution_count": 16,
     "metadata": {},
     "output_type": "execute_result"
    }
   ],
   "source": [
    "10+10"
   ]
  },
  {
   "cell_type": "markdown",
   "id": "bfbfc839-2c12-4c52-8b51-5b1d0b83f904",
   "metadata": {},
   "source": [
    "loal and global variable "
   ]
  },
  {
   "cell_type": "code",
   "execution_count": 22,
   "id": "32fe94db-bebf-4533-ba1e-0001aabf3212",
   "metadata": {},
   "outputs": [
    {
     "name": "stdout",
     "output_type": "stream",
     "text": [
      "my num is:  500\n"
     ]
    }
   ],
   "source": [
    "x=1000\n",
    "def func1():\n",
    "    x=500\n",
    "    print('my num is: ' ,x)\n",
    "func1()\n",
    "    "
   ]
  },
  {
   "cell_type": "code",
   "execution_count": 26,
   "id": "f8021c71-7a26-477d-9823-0455272972fa",
   "metadata": {},
   "outputs": [
    {
     "name": "stdin",
     "output_type": "stream",
     "text": [
      "Enter your first number: 20\n",
      "Enter your second number: 40\n"
     ]
    },
    {
     "name": "stdout",
     "output_type": "stream",
     "text": [
      "60\n"
     ]
    }
   ],
   "source": [
    "x=int(input('Enter your first number:'))\n",
    "y=int(input('Enter your second number:'))\n",
    "print(x+y)"
   ]
  },
  {
   "cell_type": "code",
   "execution_count": 27,
   "id": "8b6d99fb-734b-4ba5-9d5e-4a6954f53ad1",
   "metadata": {},
   "outputs": [
    {
     "name": "stdin",
     "output_type": "stream",
     "text": [
      "Enter your first number: 30\n",
      "Enter your second number: 80\n"
     ]
    },
    {
     "name": "stdout",
     "output_type": "stream",
     "text": [
      "110.0\n"
     ]
    }
   ],
   "source": [
    "x=float(input('Enter your first number:'))\n",
    "y=float(input('Enter your second number:'))\n",
    "print(x+y)"
   ]
  },
  {
   "cell_type": "code",
   "execution_count": 29,
   "id": "d7baea30-d53a-48ca-a9e8-f0f2089c2020",
   "metadata": {},
   "outputs": [
    {
     "name": "stdout",
     "output_type": "stream",
     "text": [
      "<class 'int'>\n"
     ]
    }
   ],
   "source": [
    "x=1000\n",
    "print(type(x))"
   ]
  },
  {
   "cell_type": "code",
   "execution_count": null,
   "id": "5ead1fce-544a-4b9a-ae38-c1c028edf2f9",
   "metadata": {},
   "outputs": [],
   "source": []
  }
 ],
 "metadata": {
  "kernelspec": {
   "display_name": "Python 3 (ipykernel)",
   "language": "python",
   "name": "python3"
  },
  "language_info": {
   "codemirror_mode": {
    "name": "ipython",
    "version": 3
   },
   "file_extension": ".py",
   "mimetype": "text/x-python",
   "name": "python",
   "nbconvert_exporter": "python",
   "pygments_lexer": "ipython3",
   "version": "3.13.5"
  }
 },
 "nbformat": 4,
 "nbformat_minor": 5
}
