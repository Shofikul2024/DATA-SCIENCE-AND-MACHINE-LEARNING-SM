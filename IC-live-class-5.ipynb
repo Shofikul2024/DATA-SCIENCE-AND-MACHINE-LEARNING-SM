{
 "cells": [
  {
   "cell_type": "code",
   "execution_count": null,
   "id": "56ccae8b-04c9-43b9-a4c9-29ff60b9875b",
   "metadata": {},
   "outputs": [],
   "source": [
    "# D: && cd \"DATA SCIENCE AND MACHINE LEARNING SM\" && python -m notebook"
   ]
  },
  {
   "cell_type": "code",
   "execution_count": 1,
   "id": "2ef8d01e-023b-40f0-bf0f-d2d4624a8ed2",
   "metadata": {},
   "outputs": [
    {
     "name": "stdout",
     "output_type": "stream",
     "text": [
      "['apple', 'banana', 'cherry']\n"
     ]
    }
   ],
   "source": [
    "# lists-0>1>2>    sequence \n",
    "\n",
    "fruits=['apple', 'banana', 'cherry',]\n",
    "print(fruits)\n"
   ]
  },
  {
   "cell_type": "code",
   "execution_count": 2,
   "id": "322ae18f-11a0-49fe-8acc-480143a33fe3",
   "metadata": {},
   "outputs": [
    {
     "name": "stdout",
     "output_type": "stream",
     "text": [
      "cherry\n"
     ]
    }
   ],
   "source": [
    "\n",
    "fruits=['apple', 'banana', 'cherry',]\n",
    "print(fruits[2])"
   ]
  },
  {
   "cell_type": "code",
   "execution_count": 4,
   "id": "29353adc-870d-4c9d-b1ab-3dca7a58f517",
   "metadata": {},
   "outputs": [
    {
     "name": "stdout",
     "output_type": "stream",
     "text": [
      "['apple', 'banana', 'cherry', 'orange']\n"
     ]
    }
   ],
   "source": [
    "#  list  method \n",
    "\n",
    "# append\n",
    "\n",
    "fruits=['apple', 'banana', 'cherry',]\n",
    "fruits.append('orange')\n",
    "print(fruits)"
   ]
  },
  {
   "cell_type": "code",
   "execution_count": 8,
   "id": "0c5d54c3-8e36-4dee-85cd-e925d7ed49ce",
   "metadata": {},
   "outputs": [
    {
     "name": "stdout",
     "output_type": "stream",
     "text": [
      "['orange', 'apple', 'banana', 'cherry']\n"
     ]
    }
   ],
   "source": [
    "# insert korle   location  bole   dite hoy \n",
    "fruits=['apple', 'banana', 'cherry',]\n",
    "fruits.insert(0 ,'orange')\n",
    "print(fruits)"
   ]
  },
  {
   "cell_type": "code",
   "execution_count": 12,
   "id": "e536b49f-8e26-48da-b1aa-e4e62b061acb",
   "metadata": {},
   "outputs": [
    {
     "name": "stdout",
     "output_type": "stream",
     "text": [
      "['apple', 'banana', 'cherry', 'orange']\n"
     ]
    }
   ],
   "source": [
    "# insert korle   location  bole   dite hoy \n",
    "fruits=['apple', 'banana', 'cherry',]\n",
    "fruits.insert(3,'orange')\n",
    "print(fruits)"
   ]
  },
  {
   "cell_type": "code",
   "execution_count": 17,
   "id": "e02872eb-bd87-465d-8bf4-c11c0faa68db",
   "metadata": {},
   "outputs": [
    {
     "name": "stdout",
     "output_type": "stream",
     "text": [
      "['apple', 'banana', 'cherry', 'grape', 'melon', 'mango']\n"
     ]
    }
   ],
   "source": [
    "fruits=['apple', 'banana', 'cherry',]\n",
    "fruits.extend(['grape', 'melon', 'mango'])\n",
    "print(fruits)"
   ]
  },
  {
   "cell_type": "code",
   "execution_count": 14,
   "id": "80556d42-dc4f-4aa1-b7fa-be16aacc5c9e",
   "metadata": {},
   "outputs": [
    {
     "name": "stdout",
     "output_type": "stream",
     "text": [
      "[]\n"
     ]
    }
   ],
   "source": [
    "fruits=['apple', 'banana', 'cherry',]\n",
    "fruits.clear()\n",
    "print(fruits)"
   ]
  },
  {
   "cell_type": "code",
   "execution_count": 28,
   "id": "28833c02-6ac3-4eb6-a68c-acd3d825fad5",
   "metadata": {},
   "outputs": [
    {
     "name": "stdout",
     "output_type": "stream",
     "text": [
      "['apple', 'cherry']\n"
     ]
    }
   ],
   "source": [
    "fruits=['apple', 'banana', 'cherry',]\n",
    "fruits.remove('banana')\n",
    "print(fruits)"
   ]
  },
  {
   "cell_type": "code",
   "execution_count": 29,
   "id": "3d6cfde7-dd15-4d41-8480-dacad1957bfa",
   "metadata": {},
   "outputs": [
    {
     "name": "stdout",
     "output_type": "stream",
     "text": [
      "['apple', 'banana']\n"
     ]
    }
   ],
   "source": [
    "fruits=['apple', 'banana', 'cherry',]\n",
    "fruits.pop()\n",
    "print(fruits)"
   ]
  },
  {
   "cell_type": "code",
   "execution_count": 31,
   "id": "65cddc81-2ab1-4bea-b3e2-8828a388c754",
   "metadata": {},
   "outputs": [
    {
     "name": "stdout",
     "output_type": "stream",
     "text": [
      "2\n"
     ]
    }
   ],
   "source": [
    "fruits=['apple', 'banana', 'cherry', 'apple']\n",
    "x=fruits.count('apple')\n",
    "print(x)\n",
    "\n",
    "\n",
    "\n",
    "\n",
    "\n",
    "\n"
   ]
  },
  {
   "cell_type": "code",
   "execution_count": 21,
   "id": "3a60cbdf-d3a7-460d-8c3d-4748ce0b9117",
   "metadata": {},
   "outputs": [
    {
     "name": "stdout",
     "output_type": "stream",
     "text": [
      "[3, 6, 8, 9, 10]\n"
     ]
    }
   ],
   "source": [
    "# sort()   method\n",
    "numbers=[3,6,8,10,9]\n",
    "numbers.sort()\n",
    "print(numbers)"
   ]
  },
  {
   "cell_type": "code",
   "execution_count": 27,
   "id": "93fcc147-5714-4ccc-a31b-13ed2bd0b604",
   "metadata": {},
   "outputs": [
    {
     "name": "stdout",
     "output_type": "stream",
     "text": [
      "[9, 20, 8, 6, 3]\n"
     ]
    }
   ],
   "source": [
    "# reverse ()   method\n",
    "#  akhane  20 ta   sober age aser  kotha  but ase nai kn  2 nd  a  aslo kn \n",
    "numbers=[3,6,8,20,9]\n",
    "numbers.reverse()\n",
    "print(numbers)"
   ]
  },
  {
   "cell_type": "code",
   "execution_count": 33,
   "id": "0ac3791c-0b8d-4502-8ddd-c91d5ad2b6b9",
   "metadata": {},
   "outputs": [
    {
     "name": "stdout",
     "output_type": "stream",
     "text": [
      "5\n"
     ]
    }
   ],
   "source": [
    "#  length  keno 1  index theke  hisab korte hoy \n",
    "#  but  array ar index to 0  theke  start hoy \n",
    "numbers=[3,6,8,20,9]\n",
    "x=len(numbers)\n",
    "print(x)"
   ]
  },
  {
   "cell_type": "code",
   "execution_count": 35,
   "id": "9cfa0195-a27f-4baf-ac93-c2fc25f6eea6",
   "metadata": {},
   "outputs": [
    {
     "name": "stdout",
     "output_type": "stream",
     "text": [
      "['Bangladesh', 'India', 'Pakistan']\n"
     ]
    }
   ],
   "source": [
    "country=[\"Bangladesh\",\"India\",\"Pakistan\",\"USA\",\"UK\",\"Canada\",\"Africa\"]\n",
    "print(country[0:3])"
   ]
  },
  {
   "cell_type": "code",
   "execution_count": 36,
   "id": "865cb53c-f23e-4cf9-ae6c-30f481a9934d",
   "metadata": {},
   "outputs": [
    {
     "name": "stdout",
     "output_type": "stream",
     "text": [
      "['Bangladesh', 'India', 'Pakistan', 'USA', 'UK']\n"
     ]
    }
   ],
   "source": [
    "\n",
    "country=[\"Bangladesh\",\"India\",\"Pakistan\",\"USA\",\"UK\",\"Canada\",\"Africa\"]\n",
    "print(country[:5])"
   ]
  },
  {
   "cell_type": "code",
   "execution_count": 37,
   "id": "776bf461-75fb-4e5d-8fab-5ae0a43110c3",
   "metadata": {},
   "outputs": [
    {
     "name": "stdout",
     "output_type": "stream",
     "text": [
      "[]\n"
     ]
    }
   ],
   "source": [
    "country=[\"Bangladesh\",\"India\",\"Pakistan\",\"USA\",\"UK\",\"Canada\",\"Africa\"]\n",
    "print(country[5:1])"
   ]
  },
  {
   "cell_type": "code",
   "execution_count": 39,
   "id": "504fc848-7e48-4c55-8e6c-79cb2791b4ef",
   "metadata": {},
   "outputs": [
    {
     "name": "stdout",
     "output_type": "stream",
     "text": [
      "['Canada', 'Africa']\n"
     ]
    }
   ],
   "source": [
    "\n",
    "#  5 tomo position theke suru hobe jabe sorbo sesh porjonto\n",
    "country=[\"Bangladesh\",\"India\",\"Pakistan\",\"USA\",\"UK\",\"Canada\",\"Africa\"]\n",
    "print(country[5:])"
   ]
  },
  {
   "cell_type": "code",
   "execution_count": 41,
   "id": "9f225664-6be2-4373-8eeb-5d342fa7d117",
   "metadata": {},
   "outputs": [
    {
     "name": "stdout",
     "output_type": "stream",
     "text": [
      "['Pakistan', 'USA', 'UK', 'Canada']\n"
     ]
    }
   ],
   "source": [
    "#  2 tomo position theke suru hobe  6 tomo\n",
    "# position  ar purboborti porjonto jabe \n",
    "country=[\"Bangladesh\",\"India\",\"Pakistan\",\"USA\",\"UK\",\"Canada\",\"Africa\"]\n",
    "print(country[2:6])"
   ]
  },
  {
   "cell_type": "code",
   "execution_count": null,
   "id": "6c375314-16fd-41ab-a667-675686d6ab76",
   "metadata": {},
   "outputs": [],
   "source": []
  },
  {
   "cell_type": "code",
   "execution_count": 43,
   "id": "7fa89484-e150-471a-933a-a2dd6ec08c9e",
   "metadata": {},
   "outputs": [
    {
     "name": "stdout",
     "output_type": "stream",
     "text": [
      "Bangladesh\n",
      "India\n",
      "Pakistan\n",
      "USA\n",
      "UK\n",
      "Canada\n",
      "Africa\n"
     ]
    }
   ],
   "source": [
    "countryList=[\"Bangladesh\",\"India\",\"Pakistan\",\"USA\",\"UK\",\"Canada\",\"Africa\"]\n",
    "for item in countryList:\n",
    "    print(item)\n",
    "    "
   ]
  },
  {
   "cell_type": "code",
   "execution_count": 44,
   "id": "3317d7d4-c11e-4118-b0ac-447d47ce9aab",
   "metadata": {},
   "outputs": [
    {
     "name": "stdout",
     "output_type": "stream",
     "text": [
      "banana\n"
     ]
    }
   ],
   "source": [
    "# tiple method\n",
    "\n",
    "# sequence 0>1>2>3\n",
    "\n",
    "fruits=(\"apple\",\"banana\",\"cherry\")\n",
    "print(fruits[1])\n"
   ]
  },
  {
   "cell_type": "code",
   "execution_count": 45,
   "id": "890da94a-8741-491f-a54a-fa73aadf197b",
   "metadata": {},
   "outputs": [
    {
     "name": "stdout",
     "output_type": "stream",
     "text": [
      "cherry\n"
     ]
    }
   ],
   "source": [
    "fruits=(\"apple\",\"banana\",\"cherry\")\n",
    "print(fruits[2])\n"
   ]
  },
  {
   "cell_type": "code",
   "execution_count": 49,
   "id": "a7e691e3-30ec-48f1-9f95-b70a3dc1e390",
   "metadata": {},
   "outputs": [
    {
     "name": "stdout",
     "output_type": "stream",
     "text": [
      "['apple', 'banana', 'cherry']\n"
     ]
    }
   ],
   "source": [
    "#  tuple   convert to list \n",
    "fruitsTuple=(\"apple\",\"banana\",\"cherry\")\n",
    "fruitsList=list(fruitsTuple)\n",
    "print(fruitsList)\n"
   ]
  },
  {
   "cell_type": "code",
   "execution_count": 26,
   "id": "d9a2a9e4-c929-48cc-b4fd-938086b170a1",
   "metadata": {},
   "outputs": [
    {
     "name": "stdout",
     "output_type": "stream",
     "text": [
      "('apple', 'banana', 'cherry')\n"
     ]
    }
   ],
   "source": [
    "#  list  convert to tuple \n",
    "fruitsList=[\"apple\",\"banana\",\"cherry\"]\n",
    "fruitsTuple=tuple(fruitsList)\n",
    "print(fruitsTuple)\n",
    "\n"
   ]
  },
  {
   "cell_type": "code",
   "execution_count": 28,
   "id": "01e3356a-4196-47ec-bc6b-1147b2256a4e",
   "metadata": {},
   "outputs": [
    {
     "name": "stdout",
     "output_type": "stream",
     "text": [
      "['apple', 'banana', 'cherry']\n",
      "('apple', 'banana', 'cherry')\n"
     ]
    }
   ],
   "source": [
    "#  list  convert to tuple \n",
    "fruitsList=[\"apple\",\"banana\",\"cherry\"]\n",
    "fruitsTuple=tuple(fruitsList)\n",
    "print(fruitsList)\n",
    "print(fruitsTuple)\n",
    "\n"
   ]
  },
  {
   "cell_type": "code",
   "execution_count": null,
   "id": "240c8dfa-e512-4fa7-81b2-ffb1b43f3ab0",
   "metadata": {},
   "outputs": [],
   "source": [
    "## tuple  usecase\n",
    "# storing , user data \n",
    "# inventory purchase , sales order\n",
    "# add to cart , invoice, dropdown\n",
    "\n",
    "# user data collection \n",
    "# table list \n",
    "\n"
   ]
  },
  {
   "cell_type": "code",
   "execution_count": 29,
   "id": "d1f2e360-b4ce-424d-be72-16995e362989",
   "metadata": {},
   "outputs": [
    {
     "name": "stdout",
     "output_type": "stream",
     "text": [
      "{'banana', 'apple', 'cherry'}\n"
     ]
    }
   ],
   "source": [
    "# set \n",
    "fruits={'apple', 'banana', 'cherry' , 'apple'}\n",
    "print(fruits)\n",
    "\n"
   ]
  },
  {
   "cell_type": "code",
   "execution_count": 34,
   "id": "f4e48d95-6284-4c96-8081-abe4c278370a",
   "metadata": {},
   "outputs": [
    {
     "name": "stdout",
     "output_type": "stream",
     "text": [
      "{'banana', 'apple', 'orange', 'cherry'}\n"
     ]
    }
   ],
   "source": [
    "# set methods\n",
    "fruits={'apple', 'banana', 'cherry'}\n",
    "fruits.add('orange')\n",
    "print(fruits)"
   ]
  },
  {
   "cell_type": "code",
   "execution_count": 38,
   "id": "4b1e9e6c-9f99-4f5a-a233-0f0b98e58638",
   "metadata": {},
   "outputs": [
    {
     "ename": "TypeError",
     "evalue": "set.add() takes exactly one argument (2 given)",
     "output_type": "error",
     "traceback": [
      "\u001b[31m---------------------------------------------------------------------------\u001b[39m",
      "\u001b[31mTypeError\u001b[39m                                 Traceback (most recent call last)",
      "\u001b[36mCell\u001b[39m\u001b[36m \u001b[39m\u001b[32mIn[38]\u001b[39m\u001b[32m, line 3\u001b[39m\n\u001b[32m      1\u001b[39m \u001b[38;5;66;03m# set methods\u001b[39;00m\n\u001b[32m      2\u001b[39m fruits={\u001b[33m'\u001b[39m\u001b[33mapple\u001b[39m\u001b[33m'\u001b[39m, \u001b[33m'\u001b[39m\u001b[33mbanana\u001b[39m\u001b[33m'\u001b[39m, \u001b[33m'\u001b[39m\u001b[33mcherry\u001b[39m\u001b[33m'\u001b[39m}\n\u001b[32m----> \u001b[39m\u001b[32m3\u001b[39m \u001b[43mfruits\u001b[49m\u001b[43m.\u001b[49m\u001b[43madd\u001b[49m\u001b[43m(\u001b[49m\u001b[33;43m'\u001b[39;49m\u001b[33;43morange\u001b[39;49m\u001b[33;43m'\u001b[39;49m\u001b[43m,\u001b[49m\u001b[33;43m'\u001b[39;49m\u001b[33;43mmango\u001b[39;49m\u001b[33;43m'\u001b[39;49m\u001b[43m)\u001b[49m\n\u001b[32m      4\u001b[39m \u001b[38;5;28mprint\u001b[39m(fruits)\n",
      "\u001b[31mTypeError\u001b[39m: set.add() takes exactly one argument (2 given)"
     ]
    }
   ],
   "source": [
    "# set methods  multiple data add kora jaina add method diye \n",
    "fruits={'apple', 'banana', 'cherry'}\n",
    "fruits.add('orange','mango')\n",
    "print(fruits)"
   ]
  },
  {
   "cell_type": "code",
   "execution_count": 35,
   "id": "3207b4f2-afca-4ba6-a8e2-eae7a219a6d9",
   "metadata": {},
   "outputs": [
    {
     "name": "stdout",
     "output_type": "stream",
     "text": [
      "{'banana', 'apple', 'e', 'o', 'cherry', 'r', 'g', 'n', 'a'}\n"
     ]
    }
   ],
   "source": [
    "# set methods  multiple data add kora jai update method diye \n",
    "fruits={'apple', 'banana', 'cherry'}\n",
    "fruits.update('orange')\n",
    "print(fruits)"
   ]
  },
  {
   "cell_type": "code",
   "execution_count": 39,
   "id": "2ee211ca-bb52-43af-85e9-f517a1c2d199",
   "metadata": {},
   "outputs": [
    {
     "name": "stdout",
     "output_type": "stream",
     "text": [
      "{'banana', 'apple', 'cherry', 'orange', 'grapes'}\n"
     ]
    }
   ],
   "source": [
    "# set methods  multiple data add kora jai update method diye \n",
    "fruits={'apple', 'banana', 'cherry'}\n",
    "fruits.update(['orange' , 'grapes'])\n",
    "print(fruits)"
   ]
  },
  {
   "cell_type": "code",
   "execution_count": 43,
   "id": "48415f86-9362-41e0-bfe4-1f6dbd41f128",
   "metadata": {},
   "outputs": [
    {
     "name": "stdout",
     "output_type": "stream",
     "text": [
      "{'apple', 'cherry'}\n"
     ]
    }
   ],
   "source": [
    "# set methods   remove kora jay\n",
    "fruits={'apple', 'banana', 'cherry'}\n",
    "fruits.remove('banana')\n",
    "print(fruits)"
   ]
  },
  {
   "cell_type": "code",
   "execution_count": 44,
   "id": "bd8d255f-7a39-4939-8330-4da727b70208",
   "metadata": {},
   "outputs": [
    {
     "name": "stdout",
     "output_type": "stream",
     "text": [
      "set()\n"
     ]
    }
   ],
   "source": [
    " \n",
    "fruits={'apple', 'banana', 'cherry'}\n",
    "fruits.clear()\n",
    "print(fruits)"
   ]
  },
  {
   "cell_type": "code",
   "execution_count": 46,
   "id": "b36dc248-2feb-4339-9203-44fcd176d822",
   "metadata": {},
   "outputs": [
    {
     "name": "stdout",
     "output_type": "stream",
     "text": [
      "{'apple', 'cherry'}\n"
     ]
    }
   ],
   "source": [
    "# set methods   remove kora jay\n",
    "fruits={'apple', 'banana', 'cherry'}\n",
    "fruits.pop()\n",
    "print(fruits)"
   ]
  },
  {
   "cell_type": "code",
   "execution_count": 48,
   "id": "7b144b55-8c85-4d6e-9cfd-0d854c96e27e",
   "metadata": {},
   "outputs": [
    {
     "name": "stdout",
     "output_type": "stream",
     "text": [
      "{1, 2, 3, 4, 5}\n"
     ]
    }
   ],
   "source": [
    "# set union\n",
    "\n",
    "set1={1,2,3}\n",
    "set2={3,4,5}\n",
    "result=set1.union(set2)\n",
    "print(result)\n",
    "\n"
   ]
  },
  {
   "cell_type": "code",
   "execution_count": 49,
   "id": "140305c4-71c9-41b8-a1ed-e3dff55a16a3",
   "metadata": {},
   "outputs": [
    {
     "name": "stdout",
     "output_type": "stream",
     "text": [
      "{1, 2, 3, 4, 5}\n"
     ]
    }
   ],
   "source": [
    "# set union\n",
    "\n",
    "set1={1,2,3}\n",
    "set2={3,4,5}\n",
    "# result=set1.union(set2)\n",
    "print(set1.union(set2))\n",
    "\n"
   ]
  },
  {
   "cell_type": "code",
   "execution_count": 52,
   "id": "1d1514d2-8e47-4c35-8551-14ca4611cc26",
   "metadata": {},
   "outputs": [
    {
     "name": "stdout",
     "output_type": "stream",
     "text": [
      "{3}\n"
     ]
    }
   ],
   "source": [
    "# set interaction\n",
    "set1={1,2,3}\n",
    "set2={3,4,5}\n",
    "result=set1.intersection(set2)\n",
    "print(result)\n",
    "\n"
   ]
  },
  {
   "cell_type": "code",
   "execution_count": 55,
   "id": "d3f43407-bccc-4c55-8c00-246b27d3821b",
   "metadata": {},
   "outputs": [
    {
     "name": "stdout",
     "output_type": "stream",
     "text": [
      "{1, 2}\n"
     ]
    }
   ],
   "source": [
    "# set different\n",
    "\n",
    "\n",
    "set1={1,2,3}\n",
    "set2={3,4,5}\n",
    "result=set1.difference(set2)\n",
    "print(result)"
   ]
  },
  {
   "cell_type": "code",
   "execution_count": null,
   "id": "c0bceccc-fad7-4b8f-a6f1-be87c4280673",
   "metadata": {},
   "outputs": [],
   "source": [
    "\n",
    "Sets Use case\n",
    "\n",
    "removing duplicate\n",
    "filteringh data\n",
    "mathmatical set operation\n",
    "unique element\n"
   ]
  },
  {
   "cell_type": "code",
   "execution_count": 58,
   "id": "e94f1a71-363b-4727-99fd-7694ff964d62",
   "metadata": {},
   "outputs": [],
   "source": [
    "# \"\"\" dictionary\n",
    "# python a dictionary   jeiti \n",
    "\n",
    "# jabascript a oitake   object bolahoy  /  JSON Array\n",
    "\n",
    "# KEY:VALUE Pair Data\n",
    "# KEY(String):VALUE(Dynamic)\n",
    "# \"\"\""
   ]
  },
  {
   "cell_type": "code",
   "execution_count": 61,
   "id": "74f84106-8cca-4fb2-8516-40440527e932",
   "metadata": {},
   "outputs": [
    {
     "name": "stdout",
     "output_type": "stream",
     "text": [
      "{'name': 'jhon', 'age': 23, 'subject': 'jhon', 'isbangladeshi': 'True'}\n"
     ]
    }
   ],
   "source": [
    "student={\n",
    "    'name':'jhon',\n",
    "    'age':23,\n",
    "    'subject':'jhon',\n",
    "    'isbangladeshi':'True'\n",
    "}\n",
    "print(student)"
   ]
  },
  {
   "cell_type": "code",
   "execution_count": 63,
   "id": "25393444-1e22-4eb5-8137-294bff82c762",
   "metadata": {},
   "outputs": [
    {
     "name": "stdout",
     "output_type": "stream",
     "text": [
      "jhon\n"
     ]
    }
   ],
   "source": [
    "student={\n",
    "    'name':'jhon',\n",
    "    'age':23,\n",
    "    'subject':'jhon',\n",
    "    'isbangladeshi':'True'\n",
    "}\n",
    "print(student['name'])"
   ]
  },
  {
   "cell_type": "code",
   "execution_count": 64,
   "id": "f0354d09-2946-4177-9cdd-dc6b15fdb6d8",
   "metadata": {},
   "outputs": [
    {
     "name": "stdout",
     "output_type": "stream",
     "text": [
      "23\n"
     ]
    }
   ],
   "source": [
    "student={\n",
    "    'name':'jhon',\n",
    "    'age':23,\n",
    "    'subject':'jhon',\n",
    "    'isbangladeshi':'True'\n",
    "}\n",
    "print(student['age'])"
   ]
  },
  {
   "cell_type": "code",
   "execution_count": 67,
   "id": "bc702474-0172-4adc-853d-29e6ea2d7f32",
   "metadata": {},
   "outputs": [
    {
     "name": "stdout",
     "output_type": "stream",
     "text": [
      "True\n"
     ]
    }
   ],
   "source": [
    "student={\n",
    "    'name':'jhon',\n",
    "    'age':23,\n",
    "    'subject':'jhon',\n",
    "    'isbangladeshi':'True'\n",
    "}\n",
    "print(student['isbangladeshi'])"
   ]
  },
  {
   "cell_type": "code",
   "execution_count": 84,
   "id": "56aa4fa7-ebc0-43f8-b301-9c73dbddaa85",
   "metadata": {},
   "outputs": [
    {
     "name": "stdout",
     "output_type": "stream",
     "text": [
      "dict_keys(['name', 'age', 'subject', 'isbangladeshi'])\n"
     ]
    }
   ],
   "source": [
    "student={\n",
    "    'name':'jhon',\n",
    "    'age':23,\n",
    "    'subject':'jhon',\n",
    "    'isbangladeshi':'True'\n",
    "}\n",
    "print(student.keys())"
   ]
  },
  {
   "cell_type": "code",
   "execution_count": 76,
   "id": "caccb96a-c567-4ef5-bc25-998d5e7c5d96",
   "metadata": {},
   "outputs": [
    {
     "name": "stdout",
     "output_type": "stream",
     "text": [
      "dict_values(['jhon', 23, 'jhon', 'True'])\n"
     ]
    }
   ],
   "source": [
    "student={\n",
    "    'name':'jhon',\n",
    "    'age':23,\n",
    "    'subject':'jhon',\n",
    "    'isbangladeshi':'True'\n",
    "}\n",
    "print(student.values())"
   ]
  },
  {
   "cell_type": "code",
   "execution_count": 79,
   "id": "03eb9049-9fce-4cf4-8c12-747d5058088a",
   "metadata": {},
   "outputs": [
    {
     "name": "stdout",
     "output_type": "stream",
     "text": [
      "{'name': 'shofikul', 'age': 23, 'department': 'CSE', 'isbangladeshi': 'True'}\n"
     ]
    }
   ],
   "source": [
    "student={\n",
    "    'name':'shofikul',\n",
    "    'age':23,\n",
    "    'department':'CSE',\n",
    "    'isbangladeshi':'True'\n",
    "}\n",
    "print(student)"
   ]
  },
  {
   "cell_type": "code",
   "execution_count": 83,
   "id": "e261dfb8-bd22-47d2-ae65-af8643fa22cd",
   "metadata": {},
   "outputs": [
    {
     "name": "stdout",
     "output_type": "stream",
     "text": [
      "dict_keys(['name', 'age', 'department', 'isbangladeshi'])\n"
     ]
    }
   ],
   "source": []
  },
  {
   "cell_type": "code",
   "execution_count": 81,
   "id": "435ec99e-0c57-4c7d-a478-fd6dd07a2459",
   "metadata": {},
   "outputs": [
    {
     "name": "stdout",
     "output_type": "stream",
     "text": [
      "dict_values(['shofikul', 23, 'CSE', 'True'])\n"
     ]
    }
   ],
   "source": [
    "student={\n",
    "    'name':'shofikul',\n",
    "    'age':23,\n",
    "    'department':'CSE',\n",
    "    'isbangladeshi':'True'\n",
    "}\n",
    "print(student.values())"
   ]
  },
  {
   "cell_type": "code",
   "execution_count": null,
   "id": "090d5e18-3b8f-4857-8313-0d0cdd68c73e",
   "metadata": {},
   "outputs": [],
   "source": [
    "\n",
    "\n"
   ]
  },
  {
   "cell_type": "code",
   "execution_count": null,
   "id": "c3f63f91-3a6a-4365-840f-28ac7be2138e",
   "metadata": {},
   "outputs": [],
   "source": [
    "student={\n",
    "    'name':'shofikul',\n",
    "    'age':23,\n",
    "    'department':'CSE',\n",
    "    'isbangladeshi':'True'\n",
    "}\n",
    "print(student.keys())"
   ]
  },
  {
   "cell_type": "code",
   "execution_count": null,
   "id": "2a5b424a-89a9-432b-89a8-c163afb3e2f3",
   "metadata": {},
   "outputs": [],
   "source": [
    "\n",
    "\n",
    "\n"
   ]
  },
  {
   "cell_type": "code",
   "execution_count": 85,
   "id": "f7c4c7de-ab9c-4506-9846-df57b4e39f03",
   "metadata": {},
   "outputs": [
    {
     "name": "stdout",
     "output_type": "stream",
     "text": [
      "dict_keys(['name', 'age', 'department', 'isbangladeshi'])\n"
     ]
    }
   ],
   "source": [
    "student={\n",
    "    'name':'shofikul',\n",
    "    'age':23,\n",
    "    'department':'CSE',\n",
    "    'isbangladeshi':'True'\n",
    "}\n",
    "allkey=student.keys()\n",
    "print(allkey)"
   ]
  },
  {
   "cell_type": "code",
   "execution_count": null,
   "id": "25523c15-61f0-4e21-ae57-7cfe2dd505e9",
   "metadata": {},
   "outputs": [],
   "source": [
    "\n",
    "\n",
    "\n"
   ]
  },
  {
   "cell_type": "code",
   "execution_count": 87,
   "id": "98f2c273-a5cd-4896-b078-2273fbd1f349",
   "metadata": {},
   "outputs": [
    {
     "name": "stdout",
     "output_type": "stream",
     "text": [
      "{'name': 'shofikul', 'age': 22, 'department': 'CSE', 'isbangladeshi': 'True'}\n"
     ]
    }
   ],
   "source": [
    "\n",
    "student={\n",
    "    'name':'shofikul',\n",
    "    'age':23,\n",
    "    'department':'CSE',\n",
    "    'isbangladeshi':'True'\n",
    "}\n",
    "updatePair=student.update({'age':22})\n",
    "print(student)\n"
   ]
  },
  {
   "cell_type": "code",
   "execution_count": null,
   "id": "dea1235c-6d4d-4af2-9042-a646a28b8afa",
   "metadata": {},
   "outputs": [],
   "source": []
  },
  {
   "cell_type": "code",
   "execution_count": null,
   "id": "d77a0ba4-0b16-418f-b0c5-dd8f9af203a2",
   "metadata": {},
   "outputs": [],
   "source": []
  },
  {
   "cell_type": "code",
   "execution_count": null,
   "id": "2a640b1b-ef2f-455a-9d3e-6fae9a4792ad",
   "metadata": {},
   "outputs": [],
   "source": []
  },
  {
   "cell_type": "code",
   "execution_count": null,
   "id": "e65f8f19-d2d7-4218-b68d-2acac56d622d",
   "metadata": {},
   "outputs": [],
   "source": []
  },
  {
   "cell_type": "code",
   "execution_count": null,
   "id": "55de8b1c-1f4b-40b9-9d0f-fdf5efd56215",
   "metadata": {},
   "outputs": [],
   "source": []
  },
  {
   "cell_type": "code",
   "execution_count": null,
   "id": "806c8912-bc2c-43d5-95b8-9f5cf691d725",
   "metadata": {},
   "outputs": [],
   "source": []
  },
  {
   "cell_type": "code",
   "execution_count": null,
   "id": "b302e0c4-d3c2-42bf-87e1-1dc960131e46",
   "metadata": {},
   "outputs": [],
   "source": []
  },
  {
   "cell_type": "code",
   "execution_count": null,
   "id": "a36d171c-e745-497b-b692-2be1e592e293",
   "metadata": {},
   "outputs": [],
   "source": []
  }
 ],
 "metadata": {
  "kernelspec": {
   "display_name": "Python 3 (ipykernel)",
   "language": "python",
   "name": "python3"
  },
  "language_info": {
   "codemirror_mode": {
    "name": "ipython",
    "version": 3
   },
   "file_extension": ".py",
   "mimetype": "text/x-python",
   "name": "python",
   "nbconvert_exporter": "python",
   "pygments_lexer": "ipython3",
   "version": "3.13.5"
  }
 },
 "nbformat": 4,
 "nbformat_minor": 5
}
