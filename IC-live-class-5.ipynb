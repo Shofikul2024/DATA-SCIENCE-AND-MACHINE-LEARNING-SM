{
 "cells": [
  {
   "cell_type": "code",
   "execution_count": null,
   "id": "56ccae8b-04c9-43b9-a4c9-29ff60b9875b",
   "metadata": {},
   "outputs": [],
   "source": [
    "# D: && cd \"DATA SCIENCE AND MACHINE LEARNING SM\" && python -m notebook"
   ]
  },
  {
   "cell_type": "code",
   "execution_count": 1,
   "id": "2ef8d01e-023b-40f0-bf0f-d2d4624a8ed2",
   "metadata": {},
   "outputs": [
    {
     "name": "stdout",
     "output_type": "stream",
     "text": [
      "['apple', 'banana', 'cherry']\n"
     ]
    }
   ],
   "source": [
    "# lists-0>1>2>    sequence \n",
    "\n",
    "fruits=['apple', 'banana', 'cherry',]\n",
    "print(fruits)\n"
   ]
  },
  {
   "cell_type": "code",
   "execution_count": 2,
   "id": "322ae18f-11a0-49fe-8acc-480143a33fe3",
   "metadata": {},
   "outputs": [
    {
     "name": "stdout",
     "output_type": "stream",
     "text": [
      "cherry\n"
     ]
    }
   ],
   "source": [
    "\n",
    "fruits=['apple', 'banana', 'cherry',]\n",
    "print(fruits[2])"
   ]
  },
  {
   "cell_type": "code",
   "execution_count": 4,
   "id": "29353adc-870d-4c9d-b1ab-3dca7a58f517",
   "metadata": {},
   "outputs": [
    {
     "name": "stdout",
     "output_type": "stream",
     "text": [
      "['apple', 'banana', 'cherry', 'orange']\n"
     ]
    }
   ],
   "source": [
    "#  list  method \n",
    "\n",
    "# append\n",
    "\n",
    "fruits=['apple', 'banana', 'cherry',]\n",
    "fruits.append('orange')\n",
    "print(fruits)"
   ]
  },
  {
   "cell_type": "code",
   "execution_count": 8,
   "id": "0c5d54c3-8e36-4dee-85cd-e925d7ed49ce",
   "metadata": {},
   "outputs": [
    {
     "name": "stdout",
     "output_type": "stream",
     "text": [
      "['orange', 'apple', 'banana', 'cherry']\n"
     ]
    }
   ],
   "source": [
    "# insert korle   location  bole   dite hoy \n",
    "fruits=['apple', 'banana', 'cherry',]\n",
    "fruits.insert(0 ,'orange')\n",
    "print(fruits)"
   ]
  },
  {
   "cell_type": "code",
   "execution_count": 12,
   "id": "e536b49f-8e26-48da-b1aa-e4e62b061acb",
   "metadata": {},
   "outputs": [
    {
     "name": "stdout",
     "output_type": "stream",
     "text": [
      "['apple', 'banana', 'cherry', 'orange']\n"
     ]
    }
   ],
   "source": [
    "# insert korle   location  bole   dite hoy \n",
    "fruits=['apple', 'banana', 'cherry',]\n",
    "fruits.insert(3,'orange')\n",
    "print(fruits)"
   ]
  },
  {
   "cell_type": "code",
   "execution_count": 17,
   "id": "e02872eb-bd87-465d-8bf4-c11c0faa68db",
   "metadata": {},
   "outputs": [
    {
     "name": "stdout",
     "output_type": "stream",
     "text": [
      "['apple', 'banana', 'cherry', 'grape', 'melon', 'mango']\n"
     ]
    }
   ],
   "source": [
    "fruits=['apple', 'banana', 'cherry',]\n",
    "fruits.extend(['grape', 'melon', 'mango'])\n",
    "print(fruits)"
   ]
  },
  {
   "cell_type": "code",
   "execution_count": 14,
   "id": "80556d42-dc4f-4aa1-b7fa-be16aacc5c9e",
   "metadata": {},
   "outputs": [
    {
     "name": "stdout",
     "output_type": "stream",
     "text": [
      "[]\n"
     ]
    }
   ],
   "source": [
    "fruits=['apple', 'banana', 'cherry',]\n",
    "fruits.clear()\n",
    "print(fruits)"
   ]
  },
  {
   "cell_type": "code",
   "execution_count": 28,
   "id": "28833c02-6ac3-4eb6-a68c-acd3d825fad5",
   "metadata": {},
   "outputs": [
    {
     "name": "stdout",
     "output_type": "stream",
     "text": [
      "['apple', 'cherry']\n"
     ]
    }
   ],
   "source": [
    "fruits=['apple', 'banana', 'cherry',]\n",
    "fruits.remove('banana')\n",
    "print(fruits)"
   ]
  },
  {
   "cell_type": "code",
   "execution_count": 29,
   "id": "3d6cfde7-dd15-4d41-8480-dacad1957bfa",
   "metadata": {},
   "outputs": [
    {
     "name": "stdout",
     "output_type": "stream",
     "text": [
      "['apple', 'banana']\n"
     ]
    }
   ],
   "source": [
    "fruits=['apple', 'banana', 'cherry',]\n",
    "fruits.pop()\n",
    "print(fruits)"
   ]
  },
  {
   "cell_type": "code",
   "execution_count": 31,
   "id": "65cddc81-2ab1-4bea-b3e2-8828a388c754",
   "metadata": {},
   "outputs": [
    {
     "name": "stdout",
     "output_type": "stream",
     "text": [
      "2\n"
     ]
    }
   ],
   "source": [
    "fruits=['apple', 'banana', 'cherry', 'apple']\n",
    "x=fruits.count('apple')\n",
    "print(x)\n",
    "\n",
    "\n",
    "\n",
    "\n",
    "\n",
    "\n"
   ]
  },
  {
   "cell_type": "code",
   "execution_count": 21,
   "id": "3a60cbdf-d3a7-460d-8c3d-4748ce0b9117",
   "metadata": {},
   "outputs": [
    {
     "name": "stdout",
     "output_type": "stream",
     "text": [
      "[3, 6, 8, 9, 10]\n"
     ]
    }
   ],
   "source": [
    "# sort()   method\n",
    "numbers=[3,6,8,10,9]\n",
    "numbers.sort()\n",
    "print(numbers)"
   ]
  },
  {
   "cell_type": "code",
   "execution_count": 27,
   "id": "93fcc147-5714-4ccc-a31b-13ed2bd0b604",
   "metadata": {},
   "outputs": [
    {
     "name": "stdout",
     "output_type": "stream",
     "text": [
      "[9, 20, 8, 6, 3]\n"
     ]
    }
   ],
   "source": [
    "# reverse ()   method\n",
    "#  akhane  20 ta   sober age aser  kotha  but ase nai kn  2 nd  a  aslo kn \n",
    "numbers=[3,6,8,20,9]\n",
    "numbers.reverse()\n",
    "print(numbers)"
   ]
  },
  {
   "cell_type": "code",
   "execution_count": 33,
   "id": "0ac3791c-0b8d-4502-8ddd-c91d5ad2b6b9",
   "metadata": {},
   "outputs": [
    {
     "name": "stdout",
     "output_type": "stream",
     "text": [
      "5\n"
     ]
    }
   ],
   "source": [
    "#  length  keno 1  index theke  hisab korte hoy \n",
    "#  but  array ar index to 0  theke  start hoy \n",
    "numbers=[3,6,8,20,9]\n",
    "x=len(numbers)\n",
    "print(x)"
   ]
  },
  {
   "cell_type": "code",
   "execution_count": 35,
   "id": "9cfa0195-a27f-4baf-ac93-c2fc25f6eea6",
   "metadata": {},
   "outputs": [
    {
     "name": "stdout",
     "output_type": "stream",
     "text": [
      "['Bangladesh', 'India', 'Pakistan']\n"
     ]
    }
   ],
   "source": [
    "country=[\"Bangladesh\",\"India\",\"Pakistan\",\"USA\",\"UK\",\"Canada\",\"Africa\"]\n",
    "print(country[0:3])"
   ]
  },
  {
   "cell_type": "code",
   "execution_count": 36,
   "id": "865cb53c-f23e-4cf9-ae6c-30f481a9934d",
   "metadata": {},
   "outputs": [
    {
     "name": "stdout",
     "output_type": "stream",
     "text": [
      "['Bangladesh', 'India', 'Pakistan', 'USA', 'UK']\n"
     ]
    }
   ],
   "source": [
    "\n",
    "country=[\"Bangladesh\",\"India\",\"Pakistan\",\"USA\",\"UK\",\"Canada\",\"Africa\"]\n",
    "print(country[:5])"
   ]
  },
  {
   "cell_type": "code",
   "execution_count": 37,
   "id": "776bf461-75fb-4e5d-8fab-5ae0a43110c3",
   "metadata": {},
   "outputs": [
    {
     "name": "stdout",
     "output_type": "stream",
     "text": [
      "[]\n"
     ]
    }
   ],
   "source": [
    "country=[\"Bangladesh\",\"India\",\"Pakistan\",\"USA\",\"UK\",\"Canada\",\"Africa\"]\n",
    "print(country[5:1])"
   ]
  },
  {
   "cell_type": "code",
   "execution_count": 39,
   "id": "504fc848-7e48-4c55-8e6c-79cb2791b4ef",
   "metadata": {},
   "outputs": [
    {
     "name": "stdout",
     "output_type": "stream",
     "text": [
      "['Canada', 'Africa']\n"
     ]
    }
   ],
   "source": [
    "\n",
    "#  5 tomo position theke suru hobe jabe sorbo sesh porjonto\n",
    "country=[\"Bangladesh\",\"India\",\"Pakistan\",\"USA\",\"UK\",\"Canada\",\"Africa\"]\n",
    "print(country[5:])"
   ]
  },
  {
   "cell_type": "code",
   "execution_count": 41,
   "id": "9f225664-6be2-4373-8eeb-5d342fa7d117",
   "metadata": {},
   "outputs": [
    {
     "name": "stdout",
     "output_type": "stream",
     "text": [
      "['Pakistan', 'USA', 'UK', 'Canada']\n"
     ]
    }
   ],
   "source": [
    "#  2 tomo position theke suru hobe  6 tomo\n",
    "# position  ar purboborti porjonto jabe \n",
    "country=[\"Bangladesh\",\"India\",\"Pakistan\",\"USA\",\"UK\",\"Canada\",\"Africa\"]\n",
    "print(country[2:6])"
   ]
  },
  {
   "cell_type": "code",
   "execution_count": null,
   "id": "6c375314-16fd-41ab-a667-675686d6ab76",
   "metadata": {},
   "outputs": [],
   "source": []
  },
  {
   "cell_type": "code",
   "execution_count": 43,
   "id": "7fa89484-e150-471a-933a-a2dd6ec08c9e",
   "metadata": {},
   "outputs": [
    {
     "name": "stdout",
     "output_type": "stream",
     "text": [
      "Bangladesh\n",
      "India\n",
      "Pakistan\n",
      "USA\n",
      "UK\n",
      "Canada\n",
      "Africa\n"
     ]
    }
   ],
   "source": [
    "countryList=[\"Bangladesh\",\"India\",\"Pakistan\",\"USA\",\"UK\",\"Canada\",\"Africa\"]\n",
    "for item in countryList:\n",
    "    print(item)\n",
    "    "
   ]
  },
  {
   "cell_type": "code",
   "execution_count": 44,
   "id": "3317d7d4-c11e-4118-b0ac-447d47ce9aab",
   "metadata": {},
   "outputs": [
    {
     "name": "stdout",
     "output_type": "stream",
     "text": [
      "banana\n"
     ]
    }
   ],
   "source": [
    "# tiple method\n",
    "\n",
    "# sequence 0>1>2>3\n",
    "\n",
    "fruits=(\"apple\",\"banana\",\"cherry\")\n",
    "print(fruits[1])\n"
   ]
  },
  {
   "cell_type": "code",
   "execution_count": 45,
   "id": "890da94a-8741-491f-a54a-fa73aadf197b",
   "metadata": {},
   "outputs": [
    {
     "name": "stdout",
     "output_type": "stream",
     "text": [
      "cherry\n"
     ]
    }
   ],
   "source": [
    "fruits=(\"apple\",\"banana\",\"cherry\")\n",
    "print(fruits[2])\n"
   ]
  },
  {
   "cell_type": "code",
   "execution_count": 49,
   "id": "a7e691e3-30ec-48f1-9f95-b70a3dc1e390",
   "metadata": {},
   "outputs": [
    {
     "name": "stdout",
     "output_type": "stream",
     "text": [
      "['apple', 'banana', 'cherry']\n"
     ]
    }
   ],
   "source": [
    "#  tuple   convert to list \n",
    "fruitsTuple=(\"apple\",\"banana\",\"cherry\")\n",
    "fruitsList=list(fruitsTuple)\n",
    "print(fruitsList)\n"
   ]
  },
  {
   "cell_type": "code",
   "execution_count": 52,
   "id": "d9a2a9e4-c929-48cc-b4fd-938086b170a1",
   "metadata": {},
   "outputs": [
    {
     "name": "stdout",
     "output_type": "stream",
     "text": [
      "('apple', 'banana', 'cherry')\n"
     ]
    }
   ],
   "source": [
    "#  list  convert to tuple \n",
    "fruitsList=[\"apple\",\"banana\",\"cherry\"]\n",
    "fruitsTuple=tuple(fruitsList)\n",
    "print(fruitsTuple)\n",
    "\n"
   ]
  },
  {
   "cell_type": "code",
   "execution_count": null,
   "id": "01e3356a-4196-47ec-bc6b-1147b2256a4e",
   "metadata": {},
   "outputs": [],
   "source": []
  },
  {
   "cell_type": "code",
   "execution_count": null,
   "id": "240c8dfa-e512-4fa7-81b2-ffb1b43f3ab0",
   "metadata": {},
   "outputs": [],
   "source": []
  },
  {
   "cell_type": "code",
   "execution_count": null,
   "id": "d1f2e360-b4ce-424d-be72-16995e362989",
   "metadata": {},
   "outputs": [],
   "source": []
  },
  {
   "cell_type": "code",
   "execution_count": null,
   "id": "f4e48d95-6284-4c96-8081-abe4c278370a",
   "metadata": {},
   "outputs": [],
   "source": []
  },
  {
   "cell_type": "code",
   "execution_count": null,
   "id": "3207b4f2-afca-4ba6-a8e2-eae7a219a6d9",
   "metadata": {},
   "outputs": [],
   "source": []
  },
  {
   "cell_type": "code",
   "execution_count": null,
   "id": "2ee211ca-bb52-43af-85e9-f517a1c2d199",
   "metadata": {},
   "outputs": [],
   "source": []
  },
  {
   "cell_type": "code",
   "execution_count": null,
   "id": "48415f86-9362-41e0-bfe4-1f6dbd41f128",
   "metadata": {},
   "outputs": [],
   "source": []
  },
  {
   "cell_type": "code",
   "execution_count": null,
   "id": "bd8d255f-7a39-4939-8330-4da727b70208",
   "metadata": {},
   "outputs": [],
   "source": []
  },
  {
   "cell_type": "code",
   "execution_count": null,
   "id": "b36dc248-2feb-4339-9203-44fcd176d822",
   "metadata": {},
   "outputs": [],
   "source": []
  },
  {
   "cell_type": "code",
   "execution_count": null,
   "id": "7b144b55-8c85-4d6e-9cfd-0d854c96e27e",
   "metadata": {},
   "outputs": [],
   "source": []
  },
  {
   "cell_type": "code",
   "execution_count": null,
   "id": "140305c4-71c9-41b8-a1ed-e3dff55a16a3",
   "metadata": {},
   "outputs": [],
   "source": []
  },
  {
   "cell_type": "code",
   "execution_count": null,
   "id": "1d1514d2-8e47-4c35-8551-14ca4611cc26",
   "metadata": {},
   "outputs": [],
   "source": []
  }
 ],
 "metadata": {
  "kernelspec": {
   "display_name": "Python 3 (ipykernel)",
   "language": "python",
   "name": "python3"
  },
  "language_info": {
   "codemirror_mode": {
    "name": "ipython",
    "version": 3
   },
   "file_extension": ".py",
   "mimetype": "text/x-python",
   "name": "python",
   "nbconvert_exporter": "python",
   "pygments_lexer": "ipython3",
   "version": "3.13.5"
  }
 },
 "nbformat": 4,
 "nbformat_minor": 5
}
