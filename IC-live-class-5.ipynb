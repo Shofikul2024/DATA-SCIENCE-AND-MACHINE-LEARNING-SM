{
 "cells": [
  {
   "cell_type": "code",
   "execution_count": null,
   "id": "56ccae8b-04c9-43b9-a4c9-29ff60b9875b",
   "metadata": {},
   "outputs": [],
   "source": [
    "# D: && cd \"DATA SCIENCE AND MACHINE LEARNING SM\" && python -m notebook"
   ]
  },
  {
   "cell_type": "code",
   "execution_count": 1,
   "id": "2ef8d01e-023b-40f0-bf0f-d2d4624a8ed2",
   "metadata": {},
   "outputs": [
    {
     "name": "stdout",
     "output_type": "stream",
     "text": [
      "['apple', 'banana', 'cherry']\n"
     ]
    }
   ],
   "source": [
    "# lists-0>1>2>    sequence \n",
    "\n",
    "fruits=['apple', 'banana', 'cherry',]\n",
    "print(fruits)\n"
   ]
  },
  {
   "cell_type": "code",
   "execution_count": 2,
   "id": "322ae18f-11a0-49fe-8acc-480143a33fe3",
   "metadata": {},
   "outputs": [
    {
     "name": "stdout",
     "output_type": "stream",
     "text": [
      "cherry\n"
     ]
    }
   ],
   "source": [
    "\n",
    "fruits=['apple', 'banana', 'cherry',]\n",
    "print(fruits[2])"
   ]
  },
  {
   "cell_type": "code",
   "execution_count": 4,
   "id": "29353adc-870d-4c9d-b1ab-3dca7a58f517",
   "metadata": {},
   "outputs": [
    {
     "name": "stdout",
     "output_type": "stream",
     "text": [
      "['apple', 'banana', 'cherry', 'orange']\n"
     ]
    }
   ],
   "source": [
    "#  list  method \n",
    "\n",
    "# append\n",
    "\n",
    "fruits=['apple', 'banana', 'cherry',]\n",
    "fruits.append('orange')\n",
    "print(fruits)"
   ]
  },
  {
   "cell_type": "code",
   "execution_count": 5,
   "id": "0c5d54c3-8e36-4dee-85cd-e925d7ed49ce",
   "metadata": {},
   "outputs": [
    {
     "ename": "TypeError",
     "evalue": "insert expected 2 arguments, got 1",
     "output_type": "error",
     "traceback": [
      "\u001b[31m---------------------------------------------------------------------------\u001b[39m",
      "\u001b[31mTypeError\u001b[39m                                 Traceback (most recent call last)",
      "\u001b[36mCell\u001b[39m\u001b[36m \u001b[39m\u001b[32mIn[5]\u001b[39m\u001b[32m, line 2\u001b[39m\n\u001b[32m      1\u001b[39m fruits=[\u001b[33m'\u001b[39m\u001b[33mapple\u001b[39m\u001b[33m'\u001b[39m, \u001b[33m'\u001b[39m\u001b[33mbanana\u001b[39m\u001b[33m'\u001b[39m, \u001b[33m'\u001b[39m\u001b[33mcherry\u001b[39m\u001b[33m'\u001b[39m,]\n\u001b[32m----> \u001b[39m\u001b[32m2\u001b[39m \u001b[43mfruits\u001b[49m\u001b[43m.\u001b[49m\u001b[43minsert\u001b[49m\u001b[43m(\u001b[49m\u001b[33;43m'\u001b[39;49m\u001b[33;43morange\u001b[39;49m\u001b[33;43m'\u001b[39;49m\u001b[43m)\u001b[49m\n\u001b[32m      3\u001b[39m \u001b[38;5;28mprint\u001b[39m(fruits)\n",
      "\u001b[31mTypeError\u001b[39m: insert expected 2 arguments, got 1"
     ]
    }
   ],
   "source": [
    "fruits=['apple', 'banana', 'cherry',]\n",
    "fruits.insert('orange')\n",
    "print(fruits)"
   ]
  },
  {
   "cell_type": "code",
   "execution_count": null,
   "id": "e536b49f-8e26-48da-b1aa-e4e62b061acb",
   "metadata": {},
   "outputs": [],
   "source": []
  }
 ],
 "metadata": {
  "kernelspec": {
   "display_name": "Python 3 (ipykernel)",
   "language": "python",
   "name": "python3"
  },
  "language_info": {
   "codemirror_mode": {
    "name": "ipython",
    "version": 3
   },
   "file_extension": ".py",
   "mimetype": "text/x-python",
   "name": "python",
   "nbconvert_exporter": "python",
   "pygments_lexer": "ipython3",
   "version": "3.13.5"
  }
 },
 "nbformat": 4,
 "nbformat_minor": 5
}
