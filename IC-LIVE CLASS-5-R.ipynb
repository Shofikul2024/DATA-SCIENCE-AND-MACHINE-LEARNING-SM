{
 "cells": [
  {
   "cell_type": "code",
   "execution_count": null,
   "id": "9dcfa4a6-b754-4abf-88aa-1715340bd0a9",
   "metadata": {},
   "outputs": [],
   "source": [
    "# D: && cd \"DATA SCIENCE AND MACHINE LEARNING SM\" && python -m notebook\n",
    "\n",
    "\n",
    "fruits=['apple', 'banana', 'cherry']\n",
    "print(fruits)"
   ]
  },
  {
   "cell_type": "code",
   "execution_count": null,
   "id": "be1d60f4-e650-4022-b193-22559573b730",
   "metadata": {},
   "outputs": [],
   "source": []
  },
  {
   "cell_type": "code",
   "execution_count": null,
   "id": "54fc7d45-11c1-454d-8609-811363f282a5",
   "metadata": {},
   "outputs": [],
   "source": [
    "# list method \n",
    "fruits=['apple', 'banana', 'cherry']\n",
    "added=fruits.append('orange')\n",
    "print(fruits)\n",
    "\n"
   ]
  },
  {
   "cell_type": "code",
   "execution_count": null,
   "id": "c5582d08-5950-4231-a74c-d3a04b33ddbe",
   "metadata": {},
   "outputs": [],
   "source": [
    "# list method \n",
    "fruits=['apple', 'banana', 'cherry']\n",
    "added=fruits.insert('orange')\n",
    "print(fruits)\n",
    "\n",
    " "
   ]
  },
  {
   "cell_type": "code",
   "execution_count": null,
   "id": "f959611d-a614-43d2-b097-59177020f7b8",
   "metadata": {},
   "outputs": [],
   "source": []
  }
 ],
 "metadata": {
  "kernelspec": {
   "display_name": "Python 3 (ipykernel)",
   "language": "python",
   "name": "python3"
  },
  "language_info": {
   "codemirror_mode": {
    "name": "ipython",
    "version": 3
   },
   "file_extension": ".py",
   "mimetype": "text/x-python",
   "name": "python",
   "nbconvert_exporter": "python",
   "pygments_lexer": "ipython3",
   "version": "3.13.5"
  }
 },
 "nbformat": 4,
 "nbformat_minor": 5
}
