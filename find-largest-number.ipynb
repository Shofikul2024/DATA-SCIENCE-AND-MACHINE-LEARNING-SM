{
 "cells": [
  {
   "cell_type": "code",
   "execution_count": 1,
   "id": "9afad1ba-4850-4cc0-9f99-8d2963e9deae",
   "metadata": {},
   "outputs": [
    {
     "name": "stdin",
     "output_type": "stream",
     "text": [
      "enter first num: 7\n",
      "enter 2nd num: 5\n",
      "enter 3rd num: 6\n"
     ]
    },
    {
     "name": "stdout",
     "output_type": "stream",
     "text": [
      "Here largest number is: 7\n"
     ]
    }
   ],
   "source": [
    "num1=int(input('enter first num:'))\n",
    "num2=int(input('enter 2nd num:')) \n",
    "num3=int(input('enter 3rd num:'))\n",
    "\n",
    "if(num1>num2) and (num1>num3):\n",
    "    largest=num1\n",
    "\n",
    "elif(num2>num1) and (num2>num3): \n",
    "    largest=num2\n",
    "else: largest=num3\n",
    "\n",
    "print('Here largest number is:',largest)"
   ]
  },
  {
   "cell_type": "code",
   "execution_count": null,
   "id": "e2cae8e5-4a86-42e6-a9eb-daac8d79a07f",
   "metadata": {},
   "outputs": [],
   "source": []
  }
 ],
 "metadata": {
  "kernelspec": {
   "display_name": "Python 3 (ipykernel)",
   "language": "python",
   "name": "python3"
  },
  "language_info": {
   "codemirror_mode": {
    "name": "ipython",
    "version": 3
   },
   "file_extension": ".py",
   "mimetype": "text/x-python",
   "name": "python",
   "nbconvert_exporter": "python",
   "pygments_lexer": "ipython3",
   "version": "3.13.5"
  }
 },
 "nbformat": 4,
 "nbformat_minor": 5
}
