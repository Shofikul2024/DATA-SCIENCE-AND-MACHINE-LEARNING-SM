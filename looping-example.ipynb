{
 "cells": [
  {
   "cell_type": "code",
   "execution_count": 1,
   "id": "72003e69-bc79-4422-a243-2418a7d47e55",
   "metadata": {},
   "outputs": [
    {
     "name": "stdout",
     "output_type": "stream",
     "text": [
      "p\n",
      "y\n",
      "t\n",
      "h\n",
      "o\n",
      "n\n"
     ]
    }
   ],
   "source": [
    "# D: && cd \"DATA SCIENCE AND MACHINE LEARNING SM\" && python -m notebook\n",
    "\n",
    "\n",
    "\n",
    "data='python'\n",
    "for x in data:\n",
    "    print(x)"
   ]
  },
  {
   "cell_type": "code",
   "execution_count": 4,
   "id": "390c2306-8914-4f84-9045-089f30c47725",
   "metadata": {},
   "outputs": [
    {
     "name": "stdout",
     "output_type": "stream",
     "text": [
      "shofikuyl  islam\n"
     ]
    }
   ],
   "source": [
    "print('shofikuyl  islam')"
   ]
  },
  {
   "cell_type": "code",
   "execution_count": 6,
   "id": "d81a51d9-1d72-4206-b64c-3f92b990ab50",
   "metadata": {},
   "outputs": [
    {
     "name": "stdout",
     "output_type": "stream",
     "text": [
      "0\n",
      "1\n",
      "2\n",
      "3\n",
      "4\n",
      "5\n",
      "6\n",
      "7\n",
      "8\n",
      "9\n"
     ]
    }
   ],
   "source": [
    "# x=0\n",
    "for i in range(10):\n",
    "    print(i)"
   ]
  },
  {
   "cell_type": "code",
   "execution_count": 10,
   "id": "026e7e86-cf0f-4180-ab32-33b28bfee02a",
   "metadata": {},
   "outputs": [
    {
     "name": "stdout",
     "output_type": "stream",
     "text": [
      "0\n",
      "1\n",
      "2\n",
      "3\n",
      "4\n",
      "5\n",
      "6\n",
      "7\n",
      "8\n",
      "9\n"
     ]
    }
   ],
   "source": [
    "for i in range(10 ):\n",
    "    print(i)"
   ]
  },
  {
   "cell_type": "code",
   "execution_count": 15,
   "id": "980f9605-bd2f-42f6-b183-f9f2c472c441",
   "metadata": {},
   "outputs": [
    {
     "name": "stdout",
     "output_type": "stream",
     "text": [
      "shofikul\n",
      "shofikul\n",
      "shofikul\n",
      "shofikul\n",
      "shofikul\n",
      "shofikul\n",
      "shofikul\n",
      "shofikul\n",
      "shofikul\n",
      "shofikul\n"
     ]
    }
   ],
   "source": [
    "for i in range(10  ):\n",
    "    print('shofikul')"
   ]
  },
  {
   "cell_type": "code",
   "execution_count": 17,
   "id": "aee5ef33-b4af-4a97-8de3-088ed96fd9af",
   "metadata": {},
   "outputs": [
    {
     "name": "stdout",
     "output_type": "stream",
     "text": [
      "1\n",
      "3\n",
      "5\n",
      "7\n",
      "9\n"
     ]
    }
   ],
   "source": [
    "# 1 theke 10 ar maje  bijor number goli print koro \n",
    "\n",
    "n=1\n",
    "while n<10:\n",
    "    print(n)\n",
    "    n=n+2"
   ]
  },
  {
   "cell_type": "code",
   "execution_count": 19,
   "id": "88c24412-3d53-4b43-a22b-40e88500ef2f",
   "metadata": {},
   "outputs": [
    {
     "name": "stdout",
     "output_type": "stream",
     "text": [
      "2\n",
      "4\n",
      "6\n",
      "8\n"
     ]
    }
   ],
   "source": [
    "# 1 theke 10 ar maje  jor number goli print koro \n",
    "\n",
    "n=2\n",
    "while n<10:\n",
    "    print(n)\n",
    "    n=n+2"
   ]
  },
  {
   "cell_type": "code",
   "execution_count": 22,
   "id": "a4f5fd56-3f04-41df-83ca-7bc36abaf4eb",
   "metadata": {},
   "outputs": [
    {
     "name": "stdout",
     "output_type": "stream",
     "text": [
      "2\n",
      "4\n",
      "6\n",
      "8\n"
     ]
    }
   ],
   "source": [
    "#   1 theke 10 ar maje  jor number goli print koro    for loop  usse \n",
    "for n in range(2, 10, 2):  # start=2, stop=10 (exclusive), step=2\n",
    "    print(n)"
   ]
  },
  {
   "cell_type": "code",
   "execution_count": 24,
   "id": "0e67a1cb-fe65-48c3-82a3-26db0dd036c7",
   "metadata": {},
   "outputs": [
    {
     "name": "stdout",
     "output_type": "stream",
     "text": [
      "1\n",
      "2\n",
      "3\n",
      "4\n",
      "5\n",
      "6\n",
      "7\n",
      "8\n",
      "9\n"
     ]
    }
   ],
   "source": [
    "#   1 theke 10 ar maje  bijor number goli print koro    for loop  usse \n",
    "for n in range(1, 10):  # start=2, stop=10 (exclusive), step=2\n",
    "    print(n)"
   ]
  },
  {
   "cell_type": "code",
   "execution_count": null,
   "id": "5c913a4e-da5a-4d04-922f-a7dc82ac7f71",
   "metadata": {},
   "outputs": [],
   "source": []
  }
 ],
 "metadata": {
  "kernelspec": {
   "display_name": "Python 3 (ipykernel)",
   "language": "python",
   "name": "python3"
  },
  "language_info": {
   "codemirror_mode": {
    "name": "ipython",
    "version": 3
   },
   "file_extension": ".py",
   "mimetype": "text/x-python",
   "name": "python",
   "nbconvert_exporter": "python",
   "pygments_lexer": "ipython3",
   "version": "3.13.5"
  }
 },
 "nbformat": 4,
 "nbformat_minor": 5
}
