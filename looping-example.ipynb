{
 "cells": [
  {
   "cell_type": "code",
   "execution_count": null,
   "id": "72003e69-bc79-4422-a243-2418a7d47e55",
   "metadata": {},
   "outputs": [],
   "source": []
  }
 ],
 "metadata": {
  "kernelspec": {
   "display_name": "",
   "name": ""
  },
  "language_info": {
   "name": ""
  }
 },
 "nbformat": 4,
 "nbformat_minor": 5
}
