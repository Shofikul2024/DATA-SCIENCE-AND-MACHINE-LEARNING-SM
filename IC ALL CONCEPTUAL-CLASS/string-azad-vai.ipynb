{
 "cells": [
  {
   "cell_type": "code",
   "execution_count": null,
   "id": "06858463-f88e-44b9-9d88-bba7772c28ee",
   "metadata": {},
   "outputs": [],
   "source": [
    "# String Case Transformations\n"
   ]
  },
  {
   "cell_type": "code",
   "execution_count": 1,
   "id": "bea390ac-b1b3-4dfb-a83d-4f22275b3875",
   "metadata": {},
   "outputs": [
    {
     "name": "stdout",
     "output_type": "stream",
     "text": [
      "Uppercase: SHAMIM DFDGSFGGHSFGHH STWERTRTWER WERTWERT\n"
     ]
    }
   ],
   "source": [
    "# Convert entire string to uppercase\n",
    "\n",
    "full_name = \"shamim dfdgsfgghsfghh stwertrtwer wertwert\"\n",
    "print(\"Uppercase:\", full_name.upper())   \n"
   ]
  },
  {
   "cell_type": "code",
   "execution_count": null,
   "id": "04d46e4e-9fa7-4995-bc79-24abe3eb55fb",
   "metadata": {},
   "outputs": [],
   "source": []
  },
  {
   "cell_type": "code",
   "execution_count": null,
   "id": "7f30e6d1-7be5-485c-812f-c2e15589a588",
   "metadata": {},
   "outputs": [],
   "source": []
  },
  {
   "cell_type": "code",
   "execution_count": null,
   "id": "76862e2a-c957-4e51-b6ae-055a0d7251a0",
   "metadata": {},
   "outputs": [],
   "source": []
  },
  {
   "cell_type": "code",
   "execution_count": null,
   "id": "931b6eda-b7e0-410b-956f-19d8450830fa",
   "metadata": {},
   "outputs": [],
   "source": []
  },
  {
   "cell_type": "code",
   "execution_count": null,
   "id": "038d21a9-b4db-47b8-9ce0-4359eeb9c2b8",
   "metadata": {},
   "outputs": [],
   "source": []
  },
  {
   "cell_type": "code",
   "execution_count": null,
   "id": "22b8c5b8-99e3-465e-b910-6c3063401ce0",
   "metadata": {},
   "outputs": [],
   "source": []
  },
  {
   "cell_type": "code",
   "execution_count": null,
   "id": "da57e173-e0de-4d27-b3c6-790f8562a764",
   "metadata": {},
   "outputs": [],
   "source": []
  },
  {
   "cell_type": "code",
   "execution_count": null,
   "id": "2260ab9f-517a-4b9f-b20a-2a757f7fe6a1",
   "metadata": {},
   "outputs": [],
   "source": []
  },
  {
   "cell_type": "code",
   "execution_count": null,
   "id": "0cddf284-6e7c-4820-8e0b-a561b4fe9cec",
   "metadata": {},
   "outputs": [],
   "source": []
  },
  {
   "cell_type": "code",
   "execution_count": null,
   "id": "5d4e0e37-8e6d-412a-8f55-f33757b6b0f3",
   "metadata": {},
   "outputs": [],
   "source": []
  }
 ],
 "metadata": {
  "kernelspec": {
   "display_name": "Python 3 (ipykernel)",
   "language": "python",
   "name": "python3"
  },
  "language_info": {
   "codemirror_mode": {
    "name": "ipython",
    "version": 3
   },
   "file_extension": ".py",
   "mimetype": "text/x-python",
   "name": "python",
   "nbconvert_exporter": "python",
   "pygments_lexer": "ipython3",
   "version": "3.13.5"
  }
 },
 "nbformat": 4,
 "nbformat_minor": 5
}
